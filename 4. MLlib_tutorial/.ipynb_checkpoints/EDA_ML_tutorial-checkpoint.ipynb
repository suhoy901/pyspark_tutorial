{
 "cells": [
  {
   "cell_type": "markdown",
   "metadata": {},
   "source": [
    "# MLlib\n",
    "- MLlib으로 모델링하기 위한 데이터 준비과정\n",
    "- 통계적 테스트 수행\n",
    "- 로지스틱회귀를 통한 유아 생존율 예측\n",
    "- 변수 선택과 RandomForest모형 학습"
   ]
  },
  {
   "cell_type": "markdown",
   "metadata": {},
   "source": [
    "## 패키지 개요\n",
    "MLlib 사용은 3단계를 갖음\n",
    "- 데이터 전처러 : 변수 추출, 변형, 선택, 범주형 변수에 대한 해싱, 자연어 처리 기술\n",
    "- 머신러닝 알고리즘 : 몇몇 유명한 알고리즘이 개발되어 있음\n",
    "- 유틸리티 : 기술통계, 카이제곱 검정, 선형대수, 모델 평가 방법론과 같은 통계 방법"
   ]
  },
  {
   "cell_type": "markdown",
   "metadata": {},
   "source": [
    "## 데이터 로딩과 변형\n",
    "MLlib이 RDD와 DStream에 중점을 두고 디자인되기는 했지만, 데이터 변형을 위해 데이터프레임으로 변형하여 작업"
   ]
  },
  {
   "cell_type": "code",
   "execution_count": 1,
   "metadata": {
    "ExecuteTime": {
     "end_time": "2018-03-04T13:49:16.532327Z",
     "start_time": "2018-03-04T13:49:16.477152Z"
    }
   },
   "outputs": [],
   "source": [
    "import pyspark.sql.types as typ\n",
    "labels = [\n",
    "    ('INFANT_ALIVE_AT_REPORT', typ.StringType()),\n",
    "    ('BIRTH_YEAR', typ.IntegerType()),\n",
    "    ('BIRTH_MONTH', typ.IntegerType()),\n",
    "    ('BIRTH_PLACE', typ.StringType()),\n",
    "    ('MOTHER_AGE_YEARS', typ.IntegerType()),\n",
    "    ('MOTHER_RACE_6CODE', typ.StringType()),\n",
    "    ('MOTHER_EDUCATION', typ.StringType()),\n",
    "    ('FATHER_COMBINED_AGE', typ.IntegerType()),\n",
    "    ('FATHER_EDUCATION', typ.StringType()),\n",
    "    ('MONTH_PRECARE_RECODE', typ.StringType()),\n",
    "    ('CIG_BEFORE', typ.IntegerType()),\n",
    "    ('CIG_1_TRI', typ.IntegerType()),\n",
    "    ('CIG_2_TRI', typ.IntegerType()),\n",
    "    ('CIG_3_TRI', typ.IntegerType()),\n",
    "    ('MOTHER_HEIGHT_IN', typ.IntegerType()),\n",
    "    ('MOTHER_BMI_RECODE', typ.IntegerType()),\n",
    "    ('MOTHER_PRE_WEIGHT', typ.IntegerType()),\n",
    "    ('MOTHER_DELIVERY_WEIGHT', typ.IntegerType()),\n",
    "    ('MOTHER_WEIGHT_GAIN', typ.IntegerType()),\n",
    "    ('DIABETES_PRE', typ.StringType()),\n",
    "    ('DIABETES_GEST', typ.StringType()),\n",
    "    ('HYP_TENS_PRE', typ.StringType()),\n",
    "    ('HYP_TENS_GEST', typ.StringType()),\n",
    "    ('PREV_BIRTH_PRETERM', typ.StringType()),\n",
    "    ('NO_RISK', typ.StringType()),\n",
    "    ('NO_INFECTIONS_REPORTED', typ.StringType()),\n",
    "    ('LABOR_IND', typ.StringType()),\n",
    "    ('LABOR_AUGM', typ.StringType()),\n",
    "    ('STEROIDS', typ.StringType()),\n",
    "    ('ANTIBIOTICS', typ.StringType()),\n",
    "    ('ANESTHESIA', typ.StringType()),\n",
    "    ('DELIV_METHOD_RECODE_COMB', typ.StringType()),\n",
    "    ('ATTENDANT_BIRTH', typ.StringType()),\n",
    "    ('APGAR_5', typ.IntegerType()),\n",
    "    ('APGAR_5_RECODE', typ.StringType()),\n",
    "    ('APGAR_10', typ.IntegerType()),\n",
    "    ('APGAR_10_RECODE', typ.StringType()),\n",
    "    ('INFANT_SEX', typ.StringType()),\n",
    "    ('OBSTETRIC_GESTATION_WEEKS', typ.IntegerType()),\n",
    "    ('INFANT_WEIGHT_GRAMS', typ.IntegerType()),\n",
    "    ('INFANT_ASSIST_VENTI', typ.StringType()),\n",
    "    ('INFANT_ASSIST_VENTI_6HRS', typ.StringType()),\n",
    "    ('INFANT_NICU_ADMISSION', typ.StringType()),\n",
    "    ('INFANT_SURFACANT', typ.StringType()),\n",
    "    ('INFANT_ANTIBIOTICS', typ.StringType()),\n",
    "    ('INFANT_SEIZURES', typ.StringType()),\n",
    "    ('INFANT_NO_ABNORMALITIES', typ.StringType()),\n",
    "    ('INFANT_ANCEPHALY', typ.StringType()),\n",
    "    ('INFANT_MENINGOMYELOCELE', typ.StringType()),\n",
    "    ('INFANT_LIMB_REDUCTION', typ.StringType()),\n",
    "    ('INFANT_DOWN_SYNDROME', typ.StringType()),\n",
    "    ('INFANT_SUSPECTED_CHROMOSOMAL_DISORDER', typ.StringType()),\n",
    "    ('INFANT_NO_CONGENITAL_ANOMALIES_CHECKED', typ.StringType()),\n",
    "    ('INFANT_BREASTFED', typ.StringType())\n",
    "]\n",
    "\n",
    "schema = typ.StructType([\n",
    "    typ.StructField(e[0], e[1], False) for e in labels\n",
    "])"
   ]
  },
  {
   "cell_type": "code",
   "execution_count": 2,
   "metadata": {
    "ExecuteTime": {
     "end_time": "2018-03-04T13:49:19.045013Z",
     "start_time": "2018-03-04T13:49:17.409450Z"
    }
   },
   "outputs": [
    {
     "name": "stdout",
     "output_type": "stream",
     "text": [
      "root\n",
      " |-- INFANT_ALIVE_AT_REPORT: string (nullable = true)\n",
      " |-- BIRTH_YEAR: integer (nullable = true)\n",
      " |-- BIRTH_MONTH: integer (nullable = true)\n",
      " |-- BIRTH_PLACE: string (nullable = true)\n",
      " |-- MOTHER_AGE_YEARS: integer (nullable = true)\n",
      " |-- MOTHER_RACE_6CODE: string (nullable = true)\n",
      " |-- MOTHER_EDUCATION: string (nullable = true)\n",
      " |-- FATHER_COMBINED_AGE: integer (nullable = true)\n",
      " |-- FATHER_EDUCATION: string (nullable = true)\n",
      " |-- MONTH_PRECARE_RECODE: string (nullable = true)\n",
      " |-- CIG_BEFORE: integer (nullable = true)\n",
      " |-- CIG_1_TRI: integer (nullable = true)\n",
      " |-- CIG_2_TRI: integer (nullable = true)\n",
      " |-- CIG_3_TRI: integer (nullable = true)\n",
      " |-- MOTHER_HEIGHT_IN: integer (nullable = true)\n",
      " |-- MOTHER_BMI_RECODE: integer (nullable = true)\n",
      " |-- MOTHER_PRE_WEIGHT: integer (nullable = true)\n",
      " |-- MOTHER_DELIVERY_WEIGHT: integer (nullable = true)\n",
      " |-- MOTHER_WEIGHT_GAIN: integer (nullable = true)\n",
      " |-- DIABETES_PRE: string (nullable = true)\n",
      " |-- DIABETES_GEST: string (nullable = true)\n",
      " |-- HYP_TENS_PRE: string (nullable = true)\n",
      " |-- HYP_TENS_GEST: string (nullable = true)\n",
      " |-- PREV_BIRTH_PRETERM: string (nullable = true)\n",
      " |-- NO_RISK: string (nullable = true)\n",
      " |-- NO_INFECTIONS_REPORTED: string (nullable = true)\n",
      " |-- LABOR_IND: string (nullable = true)\n",
      " |-- LABOR_AUGM: string (nullable = true)\n",
      " |-- STEROIDS: string (nullable = true)\n",
      " |-- ANTIBIOTICS: string (nullable = true)\n",
      " |-- ANESTHESIA: string (nullable = true)\n",
      " |-- DELIV_METHOD_RECODE_COMB: string (nullable = true)\n",
      " |-- ATTENDANT_BIRTH: string (nullable = true)\n",
      " |-- APGAR_5: integer (nullable = true)\n",
      " |-- APGAR_5_RECODE: string (nullable = true)\n",
      " |-- APGAR_10: integer (nullable = true)\n",
      " |-- APGAR_10_RECODE: string (nullable = true)\n",
      " |-- INFANT_SEX: string (nullable = true)\n",
      " |-- OBSTETRIC_GESTATION_WEEKS: integer (nullable = true)\n",
      " |-- INFANT_WEIGHT_GRAMS: integer (nullable = true)\n",
      " |-- INFANT_ASSIST_VENTI: string (nullable = true)\n",
      " |-- INFANT_ASSIST_VENTI_6HRS: string (nullable = true)\n",
      " |-- INFANT_NICU_ADMISSION: string (nullable = true)\n",
      " |-- INFANT_SURFACANT: string (nullable = true)\n",
      " |-- INFANT_ANTIBIOTICS: string (nullable = true)\n",
      " |-- INFANT_SEIZURES: string (nullable = true)\n",
      " |-- INFANT_NO_ABNORMALITIES: string (nullable = true)\n",
      " |-- INFANT_ANCEPHALY: string (nullable = true)\n",
      " |-- INFANT_MENINGOMYELOCELE: string (nullable = true)\n",
      " |-- INFANT_LIMB_REDUCTION: string (nullable = true)\n",
      " |-- INFANT_DOWN_SYNDROME: string (nullable = true)\n",
      " |-- INFANT_SUSPECTED_CHROMOSOMAL_DISORDER: string (nullable = true)\n",
      " |-- INFANT_NO_CONGENITAL_ANOMALIES_CHECKED: string (nullable = true)\n",
      " |-- INFANT_BREASTFED: string (nullable = true)\n",
      "\n"
     ]
    }
   ],
   "source": [
    "births = spark.read.csv('births_train.csv.gz', header=True, schema=schema)\n",
    "births.printSchema()"
   ]
  },
  {
   "cell_type": "markdown",
   "metadata": {},
   "source": [
    "### 종속변수의 수준을 확인"
   ]
  },
  {
   "cell_type": "code",
   "execution_count": 3,
   "metadata": {
    "ExecuteTime": {
     "end_time": "2018-03-04T13:49:23.086951Z",
     "start_time": "2018-03-04T13:49:21.163142Z"
    }
   },
   "outputs": [
    {
     "name": "stdout",
     "output_type": "stream",
     "text": [
      "+----------------------+-----+\n",
      "|INFANT_ALIVE_AT_REPORT|count|\n",
      "+----------------------+-----+\n",
      "|                     Y|23349|\n",
      "|                     N|22080|\n",
      "+----------------------+-----+\n",
      "\n"
     ]
    }
   ],
   "source": [
    "births.groupby('INFANT_ALIVE_AT_REPORT').count().show()"
   ]
  },
  {
   "cell_type": "markdown",
   "metadata": {},
   "source": [
    "종속변수의 데이터들이 상대적으로 균형이 있는 것으로 보인다"
   ]
  },
  {
   "cell_type": "markdown",
   "metadata": {},
   "source": [
    "카테고리형 데이터의 수준을 연속형 변수로 변경하는 작업을 수행하기 위해 딕셔너리를 생성"
   ]
  },
  {
   "cell_type": "code",
   "execution_count": 4,
   "metadata": {
    "ExecuteTime": {
     "end_time": "2018-03-04T13:49:24.675404Z",
     "start_time": "2018-03-04T13:49:24.672173Z"
    },
    "collapsed": true
   },
   "outputs": [],
   "source": [
    "recode_dictionary = {\n",
    "    'YNU' : {\n",
    "        'Y' : 1,\n",
    "        'N' : 0,\n",
    "        'U' : 0\n",
    "    }\n",
    "}"
   ]
  },
  {
   "cell_type": "markdown",
   "metadata": {},
   "source": [
    "필요하다고 판단되는 변수만 그냥 선택해봄!!!!"
   ]
  },
  {
   "cell_type": "code",
   "execution_count": 5,
   "metadata": {
    "ExecuteTime": {
     "end_time": "2018-03-04T13:49:25.908531Z",
     "start_time": "2018-03-04T13:49:25.830867Z"
    }
   },
   "outputs": [
    {
     "name": "stdout",
     "output_type": "stream",
     "text": [
      "root\n",
      " |-- INFANT_ALIVE_AT_REPORT: string (nullable = true)\n",
      " |-- BIRTH_PLACE: string (nullable = true)\n",
      " |-- MOTHER_AGE_YEARS: integer (nullable = true)\n",
      " |-- FATHER_COMBINED_AGE: integer (nullable = true)\n",
      " |-- CIG_BEFORE: integer (nullable = true)\n",
      " |-- CIG_1_TRI: integer (nullable = true)\n",
      " |-- CIG_2_TRI: integer (nullable = true)\n",
      " |-- CIG_3_TRI: integer (nullable = true)\n",
      " |-- MOTHER_HEIGHT_IN: integer (nullable = true)\n",
      " |-- MOTHER_PRE_WEIGHT: integer (nullable = true)\n",
      " |-- MOTHER_DELIVERY_WEIGHT: integer (nullable = true)\n",
      " |-- MOTHER_WEIGHT_GAIN: integer (nullable = true)\n",
      " |-- DIABETES_PRE: string (nullable = true)\n",
      " |-- DIABETES_GEST: string (nullable = true)\n",
      " |-- HYP_TENS_PRE: string (nullable = true)\n",
      " |-- HYP_TENS_GEST: string (nullable = true)\n",
      " |-- PREV_BIRTH_PRETERM: string (nullable = true)\n",
      "\n"
     ]
    }
   ],
   "source": [
    "selected_features = [\n",
    "    'INFANT_ALIVE_AT_REPORT', \n",
    "    'BIRTH_PLACE', \n",
    "    'MOTHER_AGE_YEARS', \n",
    "    'FATHER_COMBINED_AGE', \n",
    "    'CIG_BEFORE', \n",
    "    'CIG_1_TRI', \n",
    "    'CIG_2_TRI', \n",
    "    'CIG_3_TRI', \n",
    "    'MOTHER_HEIGHT_IN', \n",
    "    'MOTHER_PRE_WEIGHT', \n",
    "    'MOTHER_DELIVERY_WEIGHT', \n",
    "    'MOTHER_WEIGHT_GAIN', \n",
    "    'DIABETES_PRE', \n",
    "    'DIABETES_GEST', \n",
    "    'HYP_TENS_PRE', \n",
    "    'HYP_TENS_GEST', \n",
    "    'PREV_BIRTH_PRETERM'\n",
    "]\n",
    "\n",
    "births_trimmed = births.select(selected_features)\n",
    "births_trimmed.printSchema()"
   ]
  },
  {
   "cell_type": "code",
   "execution_count": 6,
   "metadata": {
    "ExecuteTime": {
     "end_time": "2018-03-04T13:49:27.984127Z",
     "start_time": "2018-03-04T13:49:26.677861Z"
    }
   },
   "outputs": [
    {
     "data": {
      "text/plain": [
       "[Row(INFANT_ALIVE_AT_REPORT='N', BIRTH_PLACE='1', MOTHER_AGE_YEARS=29, FATHER_COMBINED_AGE=99, CIG_BEFORE=99, CIG_1_TRI=99, CIG_2_TRI=99, CIG_3_TRI=99, MOTHER_HEIGHT_IN=99, MOTHER_PRE_WEIGHT=999, MOTHER_DELIVERY_WEIGHT=999, MOTHER_WEIGHT_GAIN=99, DIABETES_PRE='N', DIABETES_GEST='N', HYP_TENS_PRE='N', HYP_TENS_GEST='N', PREV_BIRTH_PRETERM='N'),\n",
       " Row(INFANT_ALIVE_AT_REPORT='N', BIRTH_PLACE='1', MOTHER_AGE_YEARS=22, FATHER_COMBINED_AGE=29, CIG_BEFORE=0, CIG_1_TRI=0, CIG_2_TRI=0, CIG_3_TRI=0, MOTHER_HEIGHT_IN=65, MOTHER_PRE_WEIGHT=180, MOTHER_DELIVERY_WEIGHT=198, MOTHER_WEIGHT_GAIN=18, DIABETES_PRE='N', DIABETES_GEST='N', HYP_TENS_PRE='N', HYP_TENS_GEST='N', PREV_BIRTH_PRETERM='N'),\n",
       " Row(INFANT_ALIVE_AT_REPORT='N', BIRTH_PLACE='1', MOTHER_AGE_YEARS=38, FATHER_COMBINED_AGE=40, CIG_BEFORE=0, CIG_1_TRI=0, CIG_2_TRI=0, CIG_3_TRI=0, MOTHER_HEIGHT_IN=63, MOTHER_PRE_WEIGHT=155, MOTHER_DELIVERY_WEIGHT=167, MOTHER_WEIGHT_GAIN=12, DIABETES_PRE='N', DIABETES_GEST='N', HYP_TENS_PRE='N', HYP_TENS_GEST='N', PREV_BIRTH_PRETERM='N')]"
      ]
     },
     "execution_count": 6,
     "metadata": {},
     "output_type": "execute_result"
    }
   ],
   "source": [
    "births_trimmed.take(3)"
   ]
  },
  {
   "cell_type": "code",
   "execution_count": 7,
   "metadata": {
    "ExecuteTime": {
     "end_time": "2018-03-04T13:49:30.571137Z",
     "start_time": "2018-03-04T13:49:30.013420Z"
    }
   },
   "outputs": [
    {
     "name": "stdout",
     "output_type": "stream",
     "text": [
      "+----------+-----+\n",
      "|CIG_BEFORE|count|\n",
      "+----------+-----+\n",
      "|        31|    1|\n",
      "|        28|    1|\n",
      "|        44|    1|\n",
      "|        12|   51|\n",
      "|        22|    3|\n",
      "|         1|  165|\n",
      "|        13|    3|\n",
      "|         6|  171|\n",
      "|        16|    3|\n",
      "|         3|  244|\n",
      "|        20| 1509|\n",
      "|        40|  127|\n",
      "|         5|  504|\n",
      "|        19|    1|\n",
      "|        15|  122|\n",
      "|         9|   12|\n",
      "|        35|    1|\n",
      "|         4|  190|\n",
      "|         8|   88|\n",
      "|        23|    2|\n",
      "+----------+-----+\n",
      "only showing top 20 rows\n",
      "\n"
     ]
    }
   ],
   "source": [
    "births_trimmed.groupby('CIG_BEFORE').count().show()"
   ]
  },
  {
   "cell_type": "code",
   "execution_count": 8,
   "metadata": {
    "ExecuteTime": {
     "end_time": "2018-03-04T13:49:32.000147Z",
     "start_time": "2018-03-04T13:49:31.399428Z"
    }
   },
   "outputs": [
    {
     "name": "stdout",
     "output_type": "stream",
     "text": [
      "+---------+-----+\n",
      "|CIG_3_TRI|count|\n",
      "+---------+-----+\n",
      "|       12|   20|\n",
      "|       22|    1|\n",
      "|        1|  147|\n",
      "|       13|    2|\n",
      "|        6|  112|\n",
      "|        3|  211|\n",
      "|       20|  411|\n",
      "|       40|   17|\n",
      "|        5|  438|\n",
      "|       19|    1|\n",
      "|       15|   47|\n",
      "|        9|    9|\n",
      "|        4|  139|\n",
      "|        8|   40|\n",
      "|        7|   73|\n",
      "|       10|  910|\n",
      "|       80|    2|\n",
      "|       25|    2|\n",
      "|       21|    1|\n",
      "|       98|    9|\n",
      "+---------+-----+\n",
      "only showing top 20 rows\n",
      "\n"
     ]
    }
   ],
   "source": [
    "births_trimmed.groupby('CIG_3_TRI').count().show()"
   ]
  },
  {
   "cell_type": "code",
   "execution_count": 9,
   "metadata": {
    "ExecuteTime": {
     "end_time": "2018-03-04T13:49:32.774630Z",
     "start_time": "2018-03-04T13:49:32.742372Z"
    }
   },
   "outputs": [
    {
     "data": {
      "text/plain": [
       "<function __main__.recode>"
      ]
     },
     "execution_count": 9,
     "metadata": {},
     "output_type": "execute_result"
    }
   ],
   "source": [
    "import pyspark.sql.functions as func\n",
    "\n",
    "# 범주형 데이터의 수준을 숫자형으로 변경하기 위한 함수\n",
    "def recode(col, key):\n",
    "    return recode_dictionary[key][col]\n",
    "\n",
    "# 담배를 피운 횟수에 대한 연속형 변수의 전처리를 위한 함수\n",
    "# 99번 이상의 경우는 0으로 변경해주는 함수임\n",
    "def correct_cig(feat):\n",
    "    return func.when(func.col(feat) != 99, func.col(feat)).otherwise(0)\n",
    "\n",
    "# 데이터프레임이 인식할 수 있게 데이터의 타입을 명시해주는 UDF를 정의\n",
    "rec_integer = func.udf(recode, typ.IntegerType())\n",
    "rec_integer # 함수 자체를 변수로 정의함!! 메모리에 참조되어 있는 것을 확인할 수 있음"
   ]
  },
  {
   "cell_type": "code",
   "execution_count": 10,
   "metadata": {
    "ExecuteTime": {
     "end_time": "2018-03-04T13:49:34.064756Z",
     "start_time": "2018-03-04T13:49:33.778665Z"
    }
   },
   "outputs": [],
   "source": [
    "births_transformed = births_trimmed.withColumn('CIG_BEFORE', correct_cig('CIG_BEFORE')).withColumn('CIG_1_TRI', correct_cig('CIG_1_TRI')).withColumn('CIG_2_TRI', correct_cig('CIG_2_TRI')).withColumn('CIG_3_TRI', correct_cig('CIG_3_TRI'))"
   ]
  },
  {
   "cell_type": "markdown",
   "metadata": {
    "ExecuteTime": {
     "end_time": "2018-03-04T10:53:08.144200Z",
     "start_time": "2018-03-04T10:53:08.093217Z"
    }
   },
   "source": [
    "### binning작업"
   ]
  },
  {
   "cell_type": "code",
   "execution_count": 11,
   "metadata": {
    "ExecuteTime": {
     "end_time": "2018-03-04T13:49:35.588680Z",
     "start_time": "2018-03-04T13:49:35.582198Z"
    }
   },
   "outputs": [
    {
     "data": {
      "text/plain": [
       "[('INFANT_ALIVE_AT_REPORT', StringType),\n",
       " ('BIRTH_PLACE', StringType),\n",
       " ('MOTHER_AGE_YEARS', IntegerType),\n",
       " ('FATHER_COMBINED_AGE', IntegerType),\n",
       " ('CIG_BEFORE', IntegerType),\n",
       " ('CIG_1_TRI', IntegerType),\n",
       " ('CIG_2_TRI', IntegerType),\n",
       " ('CIG_3_TRI', IntegerType),\n",
       " ('MOTHER_HEIGHT_IN', IntegerType),\n",
       " ('MOTHER_PRE_WEIGHT', IntegerType),\n",
       " ('MOTHER_DELIVERY_WEIGHT', IntegerType),\n",
       " ('MOTHER_WEIGHT_GAIN', IntegerType),\n",
       " ('DIABETES_PRE', StringType),\n",
       " ('DIABETES_GEST', StringType),\n",
       " ('HYP_TENS_PRE', StringType),\n",
       " ('HYP_TENS_GEST', StringType),\n",
       " ('PREV_BIRTH_PRETERM', StringType)]"
      ]
     },
     "execution_count": 11,
     "metadata": {},
     "output_type": "execute_result"
    }
   ],
   "source": [
    "cols = [(col.name, col.dataType) for col in births_trimmed.schema]\n",
    "cols"
   ]
  },
  {
   "cell_type": "code",
   "execution_count": 12,
   "metadata": {
    "ExecuteTime": {
     "end_time": "2018-03-04T13:50:12.509508Z",
     "start_time": "2018-03-04T13:49:36.359406Z"
    },
    "collapsed": true
   },
   "outputs": [],
   "source": [
    "YNU_cols = []\n",
    "\n",
    "# YNU가 존재하는 컬럼을 찾아내는 함수를 설계\n",
    "for i, s in enumerate(cols):\n",
    "    if s[1] == typ.StringType():\n",
    "        dis = births.select(s[0]).distinct().rdd.map(lambda row: row[0]).collect()\n",
    "        if 'Y' in dis:\n",
    "            YNU_cols.append(s[0])"
   ]
  },
  {
   "cell_type": "markdown",
   "metadata": {},
   "source": [
    "모든 YNU_cols를 한 번에 변형하기 위해 트랜스포메이션 리스트를 생성한다"
   ]
  },
  {
   "cell_type": "code",
   "execution_count": 13,
   "metadata": {
    "ExecuteTime": {
     "end_time": "2018-03-04T13:50:34.417615Z",
     "start_time": "2018-03-04T13:50:34.078859Z"
    }
   },
   "outputs": [
    {
     "data": {
      "text/plain": [
       "[Row(INFANT_NICU_ADMISSION='Y', INFANT_NICU_ADMISSION_RECODE=1),\n",
       " Row(INFANT_NICU_ADMISSION='Y', INFANT_NICU_ADMISSION_RECODE=1),\n",
       " Row(INFANT_NICU_ADMISSION='U', INFANT_NICU_ADMISSION_RECODE=0),\n",
       " Row(INFANT_NICU_ADMISSION='N', INFANT_NICU_ADMISSION_RECODE=0),\n",
       " Row(INFANT_NICU_ADMISSION='U', INFANT_NICU_ADMISSION_RECODE=0)]"
      ]
     },
     "execution_count": 13,
     "metadata": {},
     "output_type": "execute_result"
    }
   ],
   "source": [
    "# 연습용 : 결과를 확인하면 RDD의 형태인 것을 확인할 수 있음\n",
    "births.select([\n",
    "    'INFANT_NICU_ADMISSION', rec_integer('INFANT_NICU_ADMISSION', func.lit('YNU')).alias('INFANT_NICU_ADMISSION_RECODE')]).take(5)"
   ]
  },
  {
   "cell_type": "code",
   "execution_count": 14,
   "metadata": {
    "ExecuteTime": {
     "end_time": "2018-03-04T13:50:35.976962Z",
     "start_time": "2018-03-04T13:50:35.902245Z"
    }
   },
   "outputs": [
    {
     "data": {
      "text/plain": [
       "[Column<b'recode(INFANT_ALIVE_AT_REPORT, YNU) AS `INFANT_ALIVE_AT_REPORT`'>,\n",
       " 'BIRTH_PLACE',\n",
       " 'MOTHER_AGE_YEARS',\n",
       " 'FATHER_COMBINED_AGE',\n",
       " 'CIG_BEFORE',\n",
       " 'CIG_1_TRI',\n",
       " 'CIG_2_TRI',\n",
       " 'CIG_3_TRI',\n",
       " 'MOTHER_HEIGHT_IN',\n",
       " 'MOTHER_PRE_WEIGHT',\n",
       " 'MOTHER_DELIVERY_WEIGHT',\n",
       " 'MOTHER_WEIGHT_GAIN',\n",
       " Column<b'recode(DIABETES_PRE, YNU) AS `DIABETES_PRE`'>,\n",
       " Column<b'recode(DIABETES_GEST, YNU) AS `DIABETES_GEST`'>,\n",
       " Column<b'recode(HYP_TENS_PRE, YNU) AS `HYP_TENS_PRE`'>,\n",
       " Column<b'recode(HYP_TENS_GEST, YNU) AS `HYP_TENS_GEST`'>,\n",
       " Column<b'recode(PREV_BIRTH_PRETERM, YNU) AS `PREV_BIRTH_PRETERM`'>]"
      ]
     },
     "execution_count": 14,
     "metadata": {},
     "output_type": "execute_result"
    }
   ],
   "source": [
    "exprs_YNU = [rec_integer(x, func.lit('YNU')).alias(x) if x in YNU_cols else x for x in births_transformed.columns ]\n",
    "exprs_YNU # schema가 변경된 것을 확인할 수 있음"
   ]
  },
  {
   "cell_type": "code",
   "execution_count": 15,
   "metadata": {
    "ExecuteTime": {
     "end_time": "2018-03-04T13:50:37.226274Z",
     "start_time": "2018-03-04T13:50:37.200853Z"
    }
   },
   "outputs": [
    {
     "data": {
      "text/plain": [
       "DataFrame[INFANT_ALIVE_AT_REPORT: int, BIRTH_PLACE: string, MOTHER_AGE_YEARS: int, FATHER_COMBINED_AGE: int, CIG_BEFORE: int, CIG_1_TRI: int, CIG_2_TRI: int, CIG_3_TRI: int, MOTHER_HEIGHT_IN: int, MOTHER_PRE_WEIGHT: int, MOTHER_DELIVERY_WEIGHT: int, MOTHER_WEIGHT_GAIN: int, DIABETES_PRE: int, DIABETES_GEST: int, HYP_TENS_PRE: int, HYP_TENS_GEST: int, PREV_BIRTH_PRETERM: int]"
      ]
     },
     "execution_count": 15,
     "metadata": {},
     "output_type": "execute_result"
    }
   ],
   "source": [
    "births_transformed.select(exprs_YNU)"
   ]
  },
  {
   "cell_type": "code",
   "execution_count": 16,
   "metadata": {
    "ExecuteTime": {
     "end_time": "2018-03-04T13:50:38.348973Z",
     "start_time": "2018-03-04T13:50:38.182629Z"
    }
   },
   "outputs": [
    {
     "name": "stdout",
     "output_type": "stream",
     "text": [
      "+------------+-------------+------------+-------------+------------------+\n",
      "|DIABETES_PRE|DIABETES_GEST|HYP_TENS_PRE|HYP_TENS_GEST|PREV_BIRTH_PRETERM|\n",
      "+------------+-------------+------------+-------------+------------------+\n",
      "|           0|            0|           0|            0|                 0|\n",
      "|           0|            0|           0|            0|                 0|\n",
      "|           0|            0|           0|            0|                 0|\n",
      "|           0|            0|           0|            0|                 1|\n",
      "|           0|            0|           0|            0|                 0|\n",
      "+------------+-------------+------------+-------------+------------------+\n",
      "only showing top 5 rows\n",
      "\n"
     ]
    }
   ],
   "source": [
    "births_transformed = births_transformed.select(exprs_YNU)\n",
    "births_transformed.select(YNU_cols[-5:]).show(5)"
   ]
  },
  {
   "cell_type": "markdown",
   "metadata": {},
   "source": [
    "## EDA작업 및 데이터 통계량 확인"
   ]
  },
  {
   "cell_type": "markdown",
   "metadata": {},
   "source": [
    "### 기술통계량\n",
    " - 연속형 변수에 해당하는 변수를 추출하여 기술통계량을 확인\n",
    " - 범주형 변수의 수준별 집계를 확인"
   ]
  },
  {
   "cell_type": "markdown",
   "metadata": {},
   "source": [
    "### 연속형 변수의 기술통계량 확인"
   ]
  },
  {
   "cell_type": "code",
   "execution_count": 17,
   "metadata": {
    "ExecuteTime": {
     "end_time": "2018-03-04T13:50:40.232104Z",
     "start_time": "2018-03-04T13:50:40.228455Z"
    }
   },
   "outputs": [
    {
     "name": "stdout",
     "output_type": "stream",
     "text": [
      "root\n",
      " |-- INFANT_ALIVE_AT_REPORT: string (nullable = true)\n",
      " |-- BIRTH_PLACE: string (nullable = true)\n",
      " |-- MOTHER_AGE_YEARS: integer (nullable = true)\n",
      " |-- FATHER_COMBINED_AGE: integer (nullable = true)\n",
      " |-- CIG_BEFORE: integer (nullable = true)\n",
      " |-- CIG_1_TRI: integer (nullable = true)\n",
      " |-- CIG_2_TRI: integer (nullable = true)\n",
      " |-- CIG_3_TRI: integer (nullable = true)\n",
      " |-- MOTHER_HEIGHT_IN: integer (nullable = true)\n",
      " |-- MOTHER_PRE_WEIGHT: integer (nullable = true)\n",
      " |-- MOTHER_DELIVERY_WEIGHT: integer (nullable = true)\n",
      " |-- MOTHER_WEIGHT_GAIN: integer (nullable = true)\n",
      " |-- DIABETES_PRE: string (nullable = true)\n",
      " |-- DIABETES_GEST: string (nullable = true)\n",
      " |-- HYP_TENS_PRE: string (nullable = true)\n",
      " |-- HYP_TENS_GEST: string (nullable = true)\n",
      " |-- PREV_BIRTH_PRETERM: string (nullable = true)\n",
      "\n"
     ]
    }
   ],
   "source": [
    "births_trimmed.printSchema()"
   ]
  },
  {
   "cell_type": "code",
   "execution_count": 18,
   "metadata": {
    "ExecuteTime": {
     "end_time": "2018-03-04T13:50:43.545695Z",
     "start_time": "2018-03-04T13:50:43.406880Z"
    }
   },
   "outputs": [
    {
     "data": {
      "text/plain": [
       "[[29, 99, 0, 0, 0, 0, 99, 999, 999, 99],\n",
       " [22, 29, 0, 0, 0, 0, 65, 180, 198, 18],\n",
       " [38, 40, 0, 0, 0, 0, 63, 155, 167, 12]]"
      ]
     },
     "execution_count": 18,
     "metadata": {},
     "output_type": "execute_result"
    }
   ],
   "source": [
    "import pyspark.mllib.stat as st\n",
    "import numpy as np\n",
    "\n",
    "numeric_cols = ['MOTHER_AGE_YEARS','FATHER_COMBINED_AGE',\n",
    "                'CIG_BEFORE','CIG_1_TRI','CIG_2_TRI','CIG_3_TRI',\n",
    "                'MOTHER_HEIGHT_IN','MOTHER_PRE_WEIGHT',\n",
    "                'MOTHER_DELIVERY_WEIGHT','MOTHER_WEIGHT_GAIN'\n",
    "               ]\n",
    "\n",
    "# rdd, 즉 하나의 인스턴스를 하나의 리스트로 정의하여 데이터셋으로 선언\n",
    "numeric_rdd = births_transformed.select(numeric_cols).rdd.map(lambda row: [e for e in row])\n",
    "numeric_rdd.take(3)"
   ]
  },
  {
   "cell_type": "code",
   "execution_count": 19,
   "metadata": {
    "ExecuteTime": {
     "end_time": "2018-03-04T13:50:46.321262Z",
     "start_time": "2018-03-04T13:50:45.799453Z"
    }
   },
   "outputs": [
    {
     "name": "stdout",
     "output_type": "stream",
     "text": [
      "MOTHER_AGE_YEARS: \t 28.30 \t 6.08\n",
      "FATHER_COMBINED_AGE: \t 44.55 \t 27.55\n",
      "CIG_BEFORE: \t 1.43 \t 5.18\n",
      "CIG_1_TRI: \t 0.91 \t 3.83\n",
      "CIG_2_TRI: \t 0.70 \t 3.31\n",
      "CIG_3_TRI: \t 0.58 \t 3.11\n",
      "MOTHER_HEIGHT_IN: \t 65.12 \t 6.45\n",
      "MOTHER_PRE_WEIGHT: \t 214.50 \t 210.21\n",
      "MOTHER_DELIVERY_WEIGHT: \t 223.63 \t 180.01\n",
      "MOTHER_WEIGHT_GAIN: \t 30.74 \t 26.23\n"
     ]
    }
   ],
   "source": [
    "mllib_stat = st.Statistics.colStats(numeric_rdd) # MultivariateStatisticalSummary\n",
    "\n",
    "# 변수별 평균과 표준편차를 확인\n",
    "for col, m, v in zip(numeric_cols, mllib_stat.mean(), mllib_stat.variance()):\n",
    "    print('{0}: \\t {1:.2f} \\t {2:.2f}'.format(col, m, np.sqrt(v)))"
   ]
  },
  {
   "cell_type": "markdown",
   "metadata": {},
   "source": [
    "### 범주형 변수의 편향 확인"
   ]
  },
  {
   "cell_type": "code",
   "execution_count": 20,
   "metadata": {
    "ExecuteTime": {
     "end_time": "2018-03-04T13:50:51.280558Z",
     "start_time": "2018-03-04T13:50:48.474717Z"
    }
   },
   "outputs": [
    {
     "name": "stdout",
     "output_type": "stream",
     "text": [
      "INFANT_ALIVE_AT_REPORT [(1, 23349), (0, 22080)]\n",
      "BIRTH_PLACE [('1', 44558), ('4', 327), ('3', 224), ('2', 136), ('7', 91), ('5', 74), ('6', 11), ('9', 8)]\n",
      "DIABETES_PRE [(0, 44881), (1, 548)]\n",
      "DIABETES_GEST [(0, 43451), (1, 1978)]\n",
      "HYP_TENS_PRE [(0, 44348), (1, 1081)]\n",
      "HYP_TENS_GEST [(0, 43302), (1, 2127)]\n",
      "PREV_BIRTH_PRETERM [(0, 43088), (1, 2341)]\n"
     ]
    }
   ],
   "source": [
    "categorical_cols = [e for e in births_transformed.columns if e not in numeric_cols]\n",
    "\n",
    "categorical_rdd = births_transformed.select(categorical_cols).rdd.map(lambda row: [e for e in row])\n",
    "\n",
    "for i, col in enumerate(categorical_cols):\n",
    "    agg = categorical_rdd.groupBy(lambda row: row[i]).map(lambda row: (row[0], len(row[1])))\n",
    "    print(col, sorted(agg.collect(), key=lambda el: el[1], reverse=True))"
   ]
  },
  {
   "cell_type": "markdown",
   "metadata": {},
   "source": [
    "- 결과를 확인하면 대부분의 유아들은 병원에서 출산했음('BIRTH_PLACE : 1'당연함..)\n",
    "- 약 550건의 경우는 집에서 출산함(3인 경우는 의도적으로 집에서 출산, 4인 경우는 의도하지 않은 경우)"
   ]
  },
  {
   "cell_type": "markdown",
   "metadata": {},
   "source": [
    "### 연속형 변수들의 상관계수 확인"
   ]
  },
  {
   "cell_type": "code",
   "execution_count": 21,
   "metadata": {
    "ExecuteTime": {
     "end_time": "2018-03-04T13:50:56.051601Z",
     "start_time": "2018-03-04T13:50:54.893084Z"
    }
   },
   "outputs": [
    {
     "name": "stdout",
     "output_type": "stream",
     "text": [
      "CIG_BEFORE-to-CIG_1_TRI : 0.83\n",
      "CIG_BEFORE-to-CIG_2_TRI : 0.72\n",
      "CIG_BEFORE-to-CIG_3_TRI : 0.62\n",
      "CIG_1_TRI-to-CIG_BEFORE : 0.83\n",
      "CIG_1_TRI-to-CIG_2_TRI : 0.87\n",
      "CIG_1_TRI-to-CIG_3_TRI : 0.76\n",
      "CIG_2_TRI-to-CIG_BEFORE : 0.72\n",
      "CIG_2_TRI-to-CIG_1_TRI : 0.87\n",
      "CIG_2_TRI-to-CIG_3_TRI : 0.89\n",
      "CIG_3_TRI-to-CIG_BEFORE : 0.62\n",
      "CIG_3_TRI-to-CIG_1_TRI : 0.76\n",
      "CIG_3_TRI-to-CIG_2_TRI : 0.89\n",
      "MOTHER_PRE_WEIGHT-to-MOTHER_DELIVERY_WEIGHT : 0.54\n",
      "MOTHER_PRE_WEIGHT-to-MOTHER_WEIGHT_GAIN : 0.65\n",
      "MOTHER_DELIVERY_WEIGHT-to-MOTHER_PRE_WEIGHT : 0.54\n",
      "MOTHER_DELIVERY_WEIGHT-to-MOTHER_WEIGHT_GAIN : 0.60\n",
      "MOTHER_WEIGHT_GAIN-to-MOTHER_PRE_WEIGHT : 0.65\n",
      "MOTHER_WEIGHT_GAIN-to-MOTHER_DELIVERY_WEIGHT : 0.60\n"
     ]
    }
   ],
   "source": [
    "# 굉장히 빠름....이전의 corr을 생각X\n",
    "corr = st.Statistics.corr(numeric_rdd) # numpy ndarray로 리턴됨!!!\n",
    "\n",
    "for i, el in enumerate(corr > 0.5):\n",
    "    correlated = [(numeric_cols[j], corr[i][j]) for j, e in enumerate(el) if e == 1.0 and j!=i]\n",
    "    \n",
    "    if len(correlated) > 0:\n",
    "        for e in correlated:\n",
    "            print('{0}-to-{1} : {2:.2f}'.format(numeric_cols[i], e[0], e[1]))"
   ]
  },
  {
   "cell_type": "markdown",
   "metadata": {},
   "source": [
    "### feature selection"
   ]
  },
  {
   "cell_type": "markdown",
   "metadata": {},
   "source": [
    "상관계수를 확인한 결과 CIG들과 WEIGHT들이 연관성이 높기 때문에 CIG_BEFORE, MOTHER_PRE_WEIGHT만 사용하는 것으로 결정하기로 함"
   ]
  },
  {
   "cell_type": "code",
   "execution_count": 22,
   "metadata": {
    "ExecuteTime": {
     "end_time": "2018-03-04T13:50:58.589888Z",
     "start_time": "2018-03-04T13:50:58.566095Z"
    },
    "collapsed": true
   },
   "outputs": [],
   "source": [
    "feature_to_keep = [\n",
    "    'INFANT_ALIVE_AT_REPORT', \n",
    "    'BIRTH_PLACE', \n",
    "    'MOTHER_AGE_YEARS', \n",
    "    'FATHER_COMBINED_AGE', \n",
    "    'CIG_1_TRI', \n",
    "    'MOTHER_HEIGHT_IN', \n",
    "    'MOTHER_PRE_WEIGHT', \n",
    "    'DIABETES_PRE', \n",
    "    'DIABETES_GEST', \n",
    "    'HYP_TENS_PRE', \n",
    "    'HYP_TENS_GEST', \n",
    "    'PREV_BIRTH_PRETERM'\n",
    "]\n",
    "\n",
    "births_transformed = births_transformed.select(feature_to_keep)"
   ]
  },
  {
   "cell_type": "code",
   "execution_count": 23,
   "metadata": {
    "ExecuteTime": {
     "end_time": "2018-03-04T13:50:59.473238Z",
     "start_time": "2018-03-04T13:50:59.341469Z"
    }
   },
   "outputs": [
    {
     "name": "stdout",
     "output_type": "stream",
     "text": [
      "+----------------------+-----------+----------------+-------------------+---------+----------------+-----------------+------------+-------------+------------+-------------+------------------+\n",
      "|INFANT_ALIVE_AT_REPORT|BIRTH_PLACE|MOTHER_AGE_YEARS|FATHER_COMBINED_AGE|CIG_1_TRI|MOTHER_HEIGHT_IN|MOTHER_PRE_WEIGHT|DIABETES_PRE|DIABETES_GEST|HYP_TENS_PRE|HYP_TENS_GEST|PREV_BIRTH_PRETERM|\n",
      "+----------------------+-----------+----------------+-------------------+---------+----------------+-----------------+------------+-------------+------------+-------------+------------------+\n",
      "|                     0|          1|              29|                 99|        0|              99|              999|           0|            0|           0|            0|                 0|\n",
      "|                     0|          1|              22|                 29|        0|              65|              180|           0|            0|           0|            0|                 0|\n",
      "|                     0|          1|              38|                 40|        0|              63|              155|           0|            0|           0|            0|                 0|\n",
      "|                     0|          1|              39|                 42|        0|              60|              128|           0|            0|           0|            0|                 1|\n",
      "|                     0|          1|              18|                 99|        4|              61|              110|           0|            0|           0|            0|                 0|\n",
      "+----------------------+-----------+----------------+-------------------+---------+----------------+-----------------+------------+-------------+------------+-------------+------------------+\n",
      "only showing top 5 rows\n",
      "\n"
     ]
    }
   ],
   "source": [
    "births_transformed.show(5)"
   ]
  },
  {
   "cell_type": "markdown",
   "metadata": {},
   "source": [
    "### 범주형 변수에 대한 통계적 검증\n",
    "- 카이스퀘어 검정 : 독립성 검증(모집단과 현재 데이터셋의 차이를 검정)"
   ]
  },
  {
   "cell_type": "code",
   "execution_count": 24,
   "metadata": {
    "ExecuteTime": {
     "end_time": "2018-03-04T13:51:38.164368Z",
     "start_time": "2018-03-04T13:51:00.775060Z"
    }
   },
   "outputs": [
    {
     "name": "stdout",
     "output_type": "stream",
     "text": [
      "BIRTH_PLACE 0.0\n",
      "DIABETES_PRE 0.0\n",
      "DIABETES_GEST 0.0\n",
      "HYP_TENS_PRE 0.0\n",
      "HYP_TENS_GEST 0.0\n",
      "PREV_BIRTH_PRETERM 0.0\n"
     ]
    }
   ],
   "source": [
    "import pyspark.mllib.linalg as ln\n",
    "\n",
    "for cat in categorical_cols[1:]:\n",
    "    agg = births_transformed.groupby('INFANT_ALIVE_AT_REPORT').pivot(cat).count() # DataFrame[INFANT_ALIVE_AT_REPORT: int, 1: bigint, 2: bigint, 3: bigint, 4: bigint, 5: bigint, 6: bigint, 7: bigint, 9: bigint]\n",
    "    agg_rdd = agg.rdd.map(lambda row : (row[1:])).flatMap(lambda row: [0 if e == None else e for e in row]).collect() # [22995, 113, 158, 39, 19, 2, 23, 0, 21563, 23, 66, 288, 55, 9, 68, 8]\n",
    "    \n",
    "    row_length = len(agg.collect()[0]) - 1 # 범주형 변수의 수준의 갯수\n",
    "    \n",
    "    # 2는 목표변수의 수준임\n",
    "    agg = ln.Matrices.dense(row_length, 2, agg_rdd) # DenseMatrix(8, 2, [22995.0, 113.0, 158.0, 39.0, 19.0, 2.0, 23.0, 0.0, 21563.0, 23.0, 66.0, 288.0, 55.0, 9.0, 68.0, 8.0], False)\n",
    "    \n",
    "    test = st.Statistics.chiSqTest(agg)\n",
    "    print(cat, round(test.pValue, 4))"
   ]
  },
  {
   "cell_type": "markdown",
   "metadata": {},
   "source": [
    "카이스퀘어 검정의 결과 각각의 범주형 변수는 독립적이라는 것을 확인할 수 있음"
   ]
  },
  {
   "cell_type": "markdown",
   "metadata": {},
   "source": [
    "## 최총 데이터셋 생성\n",
    "LabeledPoint(label, feature)"
   ]
  },
  {
   "cell_type": "markdown",
   "metadata": {},
   "source": [
    "### LabeledPoint RDD 생성\n",
    "- BIRTH_PLACE변수를 해싱을 이용해 인코딩"
   ]
  },
  {
   "cell_type": "code",
   "execution_count": 25,
   "metadata": {
    "ExecuteTime": {
     "end_time": "2018-03-04T13:51:40.606508Z",
     "start_time": "2018-03-04T13:51:40.598829Z"
    }
   },
   "outputs": [
    {
     "name": "stdout",
     "output_type": "stream",
     "text": [
      "root\n",
      " |-- INFANT_ALIVE_AT_REPORT: integer (nullable = true)\n",
      " |-- BIRTH_PLACE: string (nullable = true)\n",
      " |-- MOTHER_AGE_YEARS: integer (nullable = true)\n",
      " |-- FATHER_COMBINED_AGE: integer (nullable = true)\n",
      " |-- CIG_1_TRI: integer (nullable = true)\n",
      " |-- MOTHER_HEIGHT_IN: integer (nullable = true)\n",
      " |-- MOTHER_PRE_WEIGHT: integer (nullable = true)\n",
      " |-- DIABETES_PRE: integer (nullable = true)\n",
      " |-- DIABETES_GEST: integer (nullable = true)\n",
      " |-- HYP_TENS_PRE: integer (nullable = true)\n",
      " |-- HYP_TENS_GEST: integer (nullable = true)\n",
      " |-- PREV_BIRTH_PRETERM: integer (nullable = true)\n",
      "\n"
     ]
    }
   ],
   "source": [
    "births_transformed.printSchema()"
   ]
  },
  {
   "cell_type": "code",
   "execution_count": 26,
   "metadata": {
    "ExecuteTime": {
     "end_time": "2018-03-04T13:51:41.672414Z",
     "start_time": "2018-03-04T13:51:41.388344Z"
    }
   },
   "outputs": [
    {
     "name": "stdout",
     "output_type": "stream",
     "text": [
      "+----------------------+-----------+----------------+-------------------+---------+----------------+-----------------+------------+-------------+------------+-------------+------------------+\n",
      "|INFANT_ALIVE_AT_REPORT|BIRTH_PLACE|MOTHER_AGE_YEARS|FATHER_COMBINED_AGE|CIG_1_TRI|MOTHER_HEIGHT_IN|MOTHER_PRE_WEIGHT|DIABETES_PRE|DIABETES_GEST|HYP_TENS_PRE|HYP_TENS_GEST|PREV_BIRTH_PRETERM|\n",
      "+----------------------+-----------+----------------+-------------------+---------+----------------+-----------------+------------+-------------+------------+-------------+------------------+\n",
      "|                     0|          1|              29|                 99|        0|              99|              999|           0|            0|           0|            0|                 0|\n",
      "|                     0|          1|              22|                 29|        0|              65|              180|           0|            0|           0|            0|                 0|\n",
      "+----------------------+-----------+----------------+-------------------+---------+----------------+-----------------+------------+-------------+------------+-------------+------------------+\n",
      "only showing top 2 rows\n",
      "\n"
     ]
    }
   ],
   "source": [
    "births_transformed.show(2)"
   ]
  },
  {
   "cell_type": "code",
   "execution_count": 27,
   "metadata": {
    "ExecuteTime": {
     "end_time": "2018-03-04T13:51:42.515676Z",
     "start_time": "2018-03-04T13:51:42.480439Z"
    },
    "collapsed": true
   },
   "outputs": [],
   "source": [
    "import pyspark.mllib.feature as ft\n",
    "import pyspark.mllib.regression as reg\n",
    "\n",
    "hashing = ft.HashingTF(7) # SparseVector로 변경하기 위해 사용함\n",
    "\n",
    "births_hashed = births_transformed.rdd.map(lambda row: [\n",
    "    list(hashing.transform(row[1]).toArray()) \n",
    "        if col == 'BIRTH_PLACE' \n",
    "        else row[i]\n",
    "    for i, col in enumerate(feature_to_keep)]\n",
    ").map(lambda row: [[e] if type(e) == int else e for e in row]\n",
    ").map(lambda row: [item for sublist in row for item in sublist]\n",
    ").map(lambda row: reg.LabeledPoint(row[0], ln.Vectors.dense(row[1:])))"
   ]
  },
  {
   "cell_type": "code",
   "execution_count": 28,
   "metadata": {
    "ExecuteTime": {
     "end_time": "2018-03-04T13:51:43.682318Z",
     "start_time": "2018-03-04T13:51:43.490589Z"
    }
   },
   "outputs": [
    {
     "data": {
      "text/plain": [
       "[LabeledPoint(0.0, [1.0,0.0,0.0,0.0,0.0,0.0,0.0,29.0,99.0,0.0,99.0,999.0,0.0,0.0,0.0,0.0,0.0]),\n",
       " LabeledPoint(0.0, [1.0,0.0,0.0,0.0,0.0,0.0,0.0,22.0,29.0,0.0,65.0,180.0,0.0,0.0,0.0,0.0,0.0])]"
      ]
     },
     "execution_count": 28,
     "metadata": {},
     "output_type": "execute_result"
    }
   ],
   "source": [
    "births_hashed.take(2) # BIRTH_PLACE의 수준은 8개 -> 해싱으로 표현 7개"
   ]
  },
  {
   "cell_type": "markdown",
   "metadata": {},
   "source": [
    "### 데이터 분할(train, test)"
   ]
  },
  {
   "cell_type": "code",
   "execution_count": 29,
   "metadata": {
    "ExecuteTime": {
     "end_time": "2018-03-04T13:51:45.085449Z",
     "start_time": "2018-03-04T13:51:45.080484Z"
    }
   },
   "outputs": [],
   "source": [
    "birth_train, birth_test = births_hashed.randomSplit([0.6, 0.4])"
   ]
  },
  {
   "cell_type": "markdown",
   "metadata": {},
   "source": [
    "## 유아 생존율 예측 모형\n",
    "- 로지스틱 회귀 모형\n",
    "- RandomForest모형"
   ]
  },
  {
   "cell_type": "markdown",
   "metadata": {},
   "source": [
    "### MLlib 로지스틱 회귀\n",
    "- spark2.0 : LogisticRegressionWithLBFGS\n",
    "> 제한 메모리 BGFS(Broyden-Fletcher-Goldfarb-Shanno)\n",
    "> - http://aria24.com/blog/2014/12/understanding-lbfgs\n",
    "> - http://darkpgmr.tistory.com/149"
   ]
  },
  {
   "cell_type": "code",
   "execution_count": 30,
   "metadata": {
    "ExecuteTime": {
     "end_time": "2018-03-04T13:51:49.796504Z",
     "start_time": "2018-03-04T13:51:47.114283Z"
    },
    "collapsed": true
   },
   "outputs": [],
   "source": [
    "from pyspark.mllib.classification import LogisticRegressionWithLBFGS\n",
    "\n",
    "# iteration파라미터에 대한 이해 심화\n",
    "LR_model = LogisticRegressionWithLBFGS.train(birth_train, iterations=10)"
   ]
  },
  {
   "cell_type": "code",
   "execution_count": 31,
   "metadata": {
    "ExecuteTime": {
     "end_time": "2018-03-04T13:51:50.705665Z",
     "start_time": "2018-03-04T13:51:50.686009Z"
    }
   },
   "outputs": [],
   "source": [
    "LR_result = (\n",
    "    birth_test.map(lambda row: row.label).zip(LR_model.predict(birth_test.map(lambda row: row.features)))\n",
    ").map(lambda row: (row[0], row[1] * 1.0))"
   ]
  },
  {
   "cell_type": "code",
   "execution_count": 32,
   "metadata": {
    "ExecuteTime": {
     "end_time": "2018-03-04T13:51:51.457702Z",
     "start_time": "2018-03-04T13:51:51.455561Z"
    }
   },
   "outputs": [],
   "source": [
    "# LR_result.take(3) # 실제 값과 예측값의 라벨이 들어있는 튜플을 리턴함"
   ]
  },
  {
   "cell_type": "code",
   "execution_count": 33,
   "metadata": {
    "ExecuteTime": {
     "end_time": "2018-03-04T13:51:55.108821Z",
     "start_time": "2018-03-04T13:51:52.457252Z"
    }
   },
   "outputs": [
    {
     "name": "stdout",
     "output_type": "stream",
     "text": [
      "Area under PR : 0.85\n",
      "Area under ROC : 0.63\n"
     ]
    }
   ],
   "source": [
    "import pyspark.mllib.evaluation as ev\n",
    "\n",
    "LR_evaluation = ev.BinaryClassificationMetrics(LR_result)\n",
    "print(\"Area under PR : {0:.2f}\".format(LR_evaluation.areaUnderPR))\n",
    "print(\"Area under ROC : {0:.2f}\".format(LR_evaluation.areaUnderROC))\n",
    "LR_evaluation.unpersist()"
   ]
  },
  {
   "cell_type": "markdown",
   "metadata": {},
   "source": [
    "### RandomForest모형"
   ]
  },
  {
   "cell_type": "markdown",
   "metadata": {},
   "source": [
    "### 변수 selection\n",
    "- Spark에는 chi-sq-selector를 통해 연속형 변수를 선택하는 메서드가 존재함\n",
    "> 만약 범주형 변수에 대해서도 적용하고 싶다면 해시값 혹은 더미변수화를 설정"
   ]
  },
  {
   "cell_type": "code",
   "execution_count": 35,
   "metadata": {
    "ExecuteTime": {
     "end_time": "2018-03-04T13:52:09.673147Z",
     "start_time": "2018-03-04T13:52:08.020715Z"
    }
   },
   "outputs": [],
   "source": [
    "selector = ft.ChiSqSelector(4).fit(birth_train)\n",
    "topFeatures_train = (\n",
    "    birth_train.map(lambda row: row.label).zip(selector.transform(birth_train.map(lambda row: row.features)))\n",
    ").map(lambda row: reg.LabeledPoint(row[0], row[1]))"
   ]
  },
  {
   "cell_type": "code",
   "execution_count": 36,
   "metadata": {
    "ExecuteTime": {
     "end_time": "2018-03-04T13:52:12.023917Z",
     "start_time": "2018-03-04T13:52:10.718328Z"
    }
   },
   "outputs": [
    {
     "data": {
      "text/plain": [
       "[LabeledPoint(0.0, [0.0,39.0,42.0,60.0]),\n",
       " LabeledPoint(0.0, [0.0,22.0,25.0,68.0]),\n",
       " LabeledPoint(0.0, [0.0,39.0,66.0,65.0])]"
      ]
     },
     "execution_count": 36,
     "metadata": {},
     "output_type": "execute_result"
    }
   ],
   "source": [
    "topFeatures_test = (\n",
    "    birth_test.map(lambda row: row.label).zip(selector.transform(birth_test.map(lambda row: row.features)))\n",
    ").map(lambda row: reg.LabeledPoint(row[0], row[1]))\n",
    "topFeatures_test.take(3)"
   ]
  },
  {
   "cell_type": "markdown",
   "metadata": {},
   "source": [
    "### RandomForest모형 설정\n",
    "- **data** – Training dataset: RDD of LabeledPoint. Labels should take values {0, 1, …, numClasses-1}.\n",
    "- **numClasses** – Number of classes for classification.\n",
    "- **categoricalFeaturesInfo** – Map storing arity of categorical features. An entry (n -> k) indicates that feature n is categorical with k categories indexed from 0: {0, 1, …, k-1}.\n",
    "- **numTrees** – Number of trees in the random forest.\n",
    "- **featureSubsetStrategy** – Number of features to consider for splits at each node. Supported values: “auto”, “all”, “sqrt”, “log2”, “onethird”. If “auto” is set, this parameter is set based on numTrees: if numTrees == 1, set to “all”; if numTrees > 1 (forest) set to “sqrt”. (default: “auto”)\n",
    "- **impurity** – Criterion used for information gain calculation. Supported values: “gini” or “entropy”. (default: “gini”)\n",
    "- **maxDepth** – Maximum depth of tree (e.g. depth 0 means 1 leaf node, depth 1 means 1 internal node + 2 leaf nodes). (default: 4)\n",
    "- **maxBins** – Maximum number of bins used for splitting features. (default: 32)\n",
    "- **seed** – Random seed for bootstrapping and choosing feature subsets. Set as None to generate seed based on system time. (default: None)"
   ]
  },
  {
   "cell_type": "code",
   "execution_count": 37,
   "metadata": {
    "ExecuteTime": {
     "end_time": "2018-03-04T13:52:13.607081Z",
     "start_time": "2018-03-04T13:52:13.602337Z"
    },
    "collapsed": true
   },
   "outputs": [],
   "source": [
    "from pyspark.mllib.tree import RandomForest"
   ]
  },
  {
   "cell_type": "code",
   "execution_count": 38,
   "metadata": {
    "ExecuteTime": {
     "end_time": "2018-03-04T13:52:18.407717Z",
     "start_time": "2018-03-04T13:52:14.586549Z"
    }
   },
   "outputs": [],
   "source": [
    "# categorical features가 없기 때문에 {}로 설정함\n",
    "RF_model = RandomForest.trainClassifier(data = topFeatures_train, \n",
    "                                        numClasses=2, categoricalFeaturesInfo={} , \n",
    "                                        numTrees=6, featureSubsetStrategy='all', seed=66)"
   ]
  },
  {
   "cell_type": "code",
   "execution_count": 39,
   "metadata": {
    "ExecuteTime": {
     "end_time": "2018-03-04T13:52:24.306419Z",
     "start_time": "2018-03-04T13:52:19.836693Z"
    }
   },
   "outputs": [
    {
     "name": "stdout",
     "output_type": "stream",
     "text": [
      "Area under PR : 0.88\n",
      "Area under ROC : 0.62\n"
     ]
    }
   ],
   "source": [
    "RF_result = (\n",
    "    topFeatures_test.map(lambda row: row.label\n",
    "                        ).zip(RF_model.predict(topFeatures_test.map(lambda row: row.features)))\n",
    ")\n",
    "\n",
    "RF_evaluation = ev.BinaryClassificationMetrics(RF_result)\n",
    "print(\"Area under PR : {0:.2f}\".format(RF_evaluation.areaUnderPR))\n",
    "print(\"Area under ROC : {0:.2f}\".format(RF_evaluation.areaUnderROC))\n",
    "RF_evaluation.unpersist()"
   ]
  },
  {
   "cell_type": "markdown",
   "metadata": {},
   "source": [
    "### 동일한 접근으로 로지스틱 회귀에 적용"
   ]
  },
  {
   "cell_type": "code",
   "execution_count": 40,
   "metadata": {
    "ExecuteTime": {
     "end_time": "2018-03-04T13:52:34.741361Z",
     "start_time": "2018-03-04T13:52:25.343137Z"
    }
   },
   "outputs": [
    {
     "name": "stdout",
     "output_type": "stream",
     "text": [
      "Area under PR : 0.89\n",
      "Area under ROC : 0.62\n"
     ]
    }
   ],
   "source": [
    "LR_model_2 = LogisticRegressionWithLBFGS.train(topFeatures_train, iterations=10)\n",
    "LR_result_2 = (\n",
    "    topFeatures_test.map(lambda row: row.label\n",
    "                        ).zip(LR_model_2.predict(topFeatures_test.map(lambda row: row.features)))\n",
    ").map(lambda row: (row[0], row[1] * 1.0))\n",
    "\n",
    "LR_evaluation_2 = ev.BinaryClassificationMetrics(LR_result_2)\n",
    "\n",
    "print(\"Area under PR : {0:.2f}\".format(LR_evaluation_2.areaUnderPR))\n",
    "print(\"Area under ROC : {0:.2f}\".format(LR_evaluation_2.areaUnderROC))\n",
    "LR_evaluation_2.unpersist()"
   ]
  },
  {
   "cell_type": "code",
   "execution_count": null,
   "metadata": {
    "collapsed": true
   },
   "outputs": [],
   "source": []
  }
 ],
 "metadata": {
  "kernelspec": {
   "display_name": "Python (python3_0901)",
   "language": "python",
   "name": "python3_0901"
  },
  "language_info": {
   "codemirror_mode": {
    "name": "ipython",
    "version": 3
   },
   "file_extension": ".py",
   "mimetype": "text/x-python",
   "name": "python",
   "nbconvert_exporter": "python",
   "pygments_lexer": "ipython3",
   "version": "3.6.3"
  },
  "latex_envs": {
   "LaTeX_envs_menu_present": true,
   "autoclose": false,
   "autocomplete": true,
   "bibliofile": "biblio.bib",
   "cite_by": "apalike",
   "current_citInitial": 1,
   "eqLabelWithNumbers": true,
   "eqNumInitial": 1,
   "hotkeys": {
    "equation": "Ctrl-E",
    "itemize": "Ctrl-I"
   },
   "labels_anchors": false,
   "latex_user_defs": false,
   "report_style_numbering": false,
   "user_envs_cfg": false
  },
  "varInspector": {
   "cols": {
    "lenName": 16,
    "lenType": 16,
    "lenVar": 40
   },
   "kernels_config": {
    "python": {
     "delete_cmd_postfix": "",
     "delete_cmd_prefix": "del ",
     "library": "var_list.py",
     "varRefreshCmd": "print(var_dic_list())"
    },
    "r": {
     "delete_cmd_postfix": ") ",
     "delete_cmd_prefix": "rm(",
     "library": "var_list.r",
     "varRefreshCmd": "cat(var_dic_list()) "
    }
   },
   "types_to_exclude": [
    "module",
    "function",
    "builtin_function_or_method",
    "instance",
    "_Feature"
   ],
   "window_display": false
  }
 },
 "nbformat": 4,
 "nbformat_minor": 2
}
