{
 "cells": [
  {
   "cell_type": "markdown",
   "metadata": {},
   "source": [
    "# Spark Recommender System\n",
    "영화평점데이터를 활용한 추천시스템 개발"
   ]
  },
  {
   "cell_type": "markdown",
   "metadata": {},
   "source": [
    "## 1. Data-Preprocessing\n",
    "### 1.1 Loading Data"
   ]
  },
  {
   "cell_type": "code",
   "execution_count": 1,
   "metadata": {
    "ExecuteTime": {
     "end_time": "2018-03-26T10:33:33.355696Z",
     "start_time": "2018-03-26T10:33:29.113Z"
    }
   },
   "outputs": [
    {
     "data": {
      "text/plain": [
       "196\t242\t3\t881250949"
      ]
     },
     "execution_count": 1,
     "metadata": {},
     "output_type": "execute_result"
    }
   ],
   "source": [
    "val rawData = sc.textFile(\"/home/paulkim/workspace/Spark/semi_project/data/ml-100k/u.data\")\n",
    "rawData.first()"
   ]
  },
  {
   "cell_type": "markdown",
   "metadata": {},
   "source": [
    "### 1.2 EDA u.data\n",
    "- **u.user schema**: user id, movie id, rating"
   ]
  },
  {
   "cell_type": "code",
   "execution_count": 2,
   "metadata": {
    "ExecuteTime": {
     "end_time": "2018-03-26T10:33:34.701643Z",
     "start_time": "2018-03-26T10:33:29.405Z"
    }
   },
   "outputs": [
    {
     "data": {
      "text/plain": [
       "100000"
      ]
     },
     "execution_count": 2,
     "metadata": {},
     "output_type": "execute_result"
    }
   ],
   "source": [
    "val rawRatings = rawData.map(_.split(\"\\t\").take(3))\n",
    "rawRatings.count()"
   ]
  },
  {
   "cell_type": "code",
   "execution_count": 3,
   "metadata": {
    "ExecuteTime": {
     "end_time": "2018-03-26T10:33:36.274565Z",
     "start_time": "2018-03-26T10:33:29.552Z"
    }
   },
   "outputs": [
    {
     "name": "stdout",
     "output_type": "stream",
     "text": [
      "Number of users : 943\n",
      "Number of movies : 1682\n"
     ]
    },
    {
     "data": {
      "text/plain": [
       "Array(196, 242, 3)"
      ]
     },
     "execution_count": 3,
     "metadata": {},
     "output_type": "execute_result"
    }
   ],
   "source": [
    "println(\"Number of users : \" + rawRatings.map(arr => arr(0)).distinct().count())\n",
    "println(\"Number of movies : \" + rawRatings.map(arr => arr(1)).distinct().count())\n",
    "rawRatings.first() // Array[String] = Array(196, 242, 3)"
   ]
  },
  {
   "cell_type": "markdown",
   "metadata": {},
   "source": [
    "## 2. ALS recommendations model\n",
    "**org.apache.spark.mllib.recommendation.ALS**\n",
    "- ratings : org.apache.spark.mllib.recommendation.Rating\n",
    "- rank : Int\n",
    "- iterations : Int\n",
    "- lambda : Double\n",
    "\n",
    "**org.apache.spark.mllib.recommedation.Rating**\n",
    "- user : Int\n",
    "- prodict: Int\n",
    "- rating : Double"
   ]
  },
  {
   "cell_type": "markdown",
   "metadata": {},
   "source": [
    "### 2.1 Import Libs & Ratings Object"
   ]
  },
  {
   "cell_type": "code",
   "execution_count": 4,
   "metadata": {
    "ExecuteTime": {
     "end_time": "2018-03-26T10:33:36.610166Z",
     "start_time": "2018-03-26T10:33:29.954Z"
    }
   },
   "outputs": [],
   "source": [
    "import org.apache.spark.mllib.recommendation.ALS\n",
    "import org.apache.spark.mllib.recommendation.Rating"
   ]
  },
  {
   "cell_type": "code",
   "execution_count": 5,
   "metadata": {
    "ExecuteTime": {
     "end_time": "2018-03-26T10:33:37.313400Z",
     "start_time": "2018-03-26T10:33:30.102Z"
    }
   },
   "outputs": [
    {
     "data": {
      "text/plain": [
       "Rating(196,242,3.0)"
      ]
     },
     "execution_count": 5,
     "metadata": {},
     "output_type": "execute_result"
    }
   ],
   "source": [
    "val ratings = rawRatings.map{ case Array(user, movie, rating) => Rating(user.toInt, movie.toInt, rating.toDouble)}\n",
    "ratings.first() // Rating(196,242,3.0)"
   ]
  },
  {
   "cell_type": "markdown",
   "metadata": {},
   "source": [
    "### 2.2 Training Model\n",
    "- **rank** : ALS모델에서 사용하는 특징 갯수. 낮은 순위의 근사치 행렬에서 숨겨진 특징 갯수임. 메모리에 직접적인 영향을 미침. 특징 갯수와 메모리 사용 간에는 트레이드오프임. 10에서 200 사이의 범위\n",
    "- **iterations** : 실행에 대한 반복 횟수. 10회 정도를 권장 \n",
    "- **lambda** : 오버피팅의 문제를 제어. penalty이며 값이 높을수록 regularization을 수행함."
   ]
  },
  {
   "cell_type": "code",
   "execution_count": 6,
   "metadata": {
    "ExecuteTime": {
     "end_time": "2018-03-26T10:33:44.186792Z",
     "start_time": "2018-03-26T10:33:30.359Z"
    }
   },
   "outputs": [],
   "source": [
    "// .recommendation.MatrixFactorizationModel@c938ed5\n",
    "val model = ALS.train(ratings, 50, 10, 0.01)"
   ]
  },
  {
   "cell_type": "markdown",
   "metadata": {},
   "source": [
    "ALS.train()은 (id, factor) 쌍으로 구성된 RDD 형태로 user와 item을 포함하는 MatrixFactorizationModel객체를 변환함."
   ]
  },
  {
   "cell_type": "code",
   "execution_count": 7,
   "metadata": {
    "ExecuteTime": {
     "end_time": "2018-03-26T10:33:44.682174Z",
     "start_time": "2018-03-26T10:33:30.652Z"
    }
   },
   "outputs": [
    {
     "data": {
      "text/plain": [
       "943"
      ]
     },
     "execution_count": 7,
     "metadata": {},
     "output_type": "execute_result"
    }
   ],
   "source": [
    "model.userFeatures.count // users"
   ]
  },
  {
   "cell_type": "code",
   "execution_count": 8,
   "metadata": {
    "ExecuteTime": {
     "end_time": "2018-03-26T10:33:45.201061Z",
     "start_time": "2018-03-26T10:33:30.762Z"
    }
   },
   "outputs": [
    {
     "data": {
      "text/plain": [
       "1682"
      ]
     },
     "execution_count": 8,
     "metadata": {},
     "output_type": "execute_result"
    }
   ],
   "source": [
    "model.productFeatures.count // items"
   ]
  },
  {
   "cell_type": "markdown",
   "metadata": {},
   "source": [
    "사용자 943명(User)과 1682개의 영화(Item)가 여전히 존재하고 있는 것을 확인할 수 있음"
   ]
  },
  {
   "cell_type": "markdown",
   "metadata": {},
   "source": [
    "## 3. 사용자 추천(users에게 items(영화)를 추천)"
   ]
  },
  {
   "cell_type": "markdown",
   "metadata": {},
   "source": [
    "**tip) 추천 방안 2가지**\n",
    "- **사용자 기반의 방법** : item선택이 유사한 사용자가 부여한 점수는 특정 사용자에게 추천 \n",
    "- **제품 기반의 방법** : 사용자가 후보 제품에 평점을 부여한 유사 제품을 바탕으로 추천 연산을 수행\n",
    "\n",
    "\n",
    "### 3.1 predict model(평점예측) => 특별한 의미X\n",
    "userId가 789인 사람이 itemId가 123인 영화의 평점을 예측"
   ]
  },
  {
   "cell_type": "code",
   "execution_count": 9,
   "metadata": {
    "ExecuteTime": {
     "end_time": "2018-03-26T10:33:45.705719Z",
     "start_time": "2018-03-26T10:33:31.312Z"
    }
   },
   "outputs": [],
   "source": [
    "// 789번 사용자와 영화 123번에 대한 평점을 예측\n",
    "val predictedRating = model.predict(789, 123) // predictedRating: Double = 3.2936442480956147"
   ]
  },
  {
   "cell_type": "markdown",
   "metadata": {},
   "source": [
    "3.2936442480956147점. 약, 3.29점의 평점을 예측한 것을 확인할 수 있음"
   ]
  },
  {
   "cell_type": "markdown",
   "metadata": {},
   "source": [
    "predict메서드는 입력으로 (user, item) 아이디로 구성된 RDD를 매개변수로 받아 각 ID에 대한 예측 값을 생성함."
   ]
  },
  {
   "cell_type": "markdown",
   "metadata": {},
   "source": [
    "### 3.2 사용자에게 10개의 item(영화)를 추천\n",
    "특정 사용자에게 제공할 수 있는 top-K 추천 제품 목록을 생성할 때 MatrixFactorizationModel은 recommendProduct라는 메서드를 사용할 수 있음. \n",
    "- user : user id\n",
    "- num : 추천 갯수\n",
    "\n",
    "tip) recommendProducts는 예측 점수의 순서대로 정렬하여 결과를 반환. 예측 점수는 사용자 특징 벡터와 각 제품 특징 벡터 간의 내적으로 계산"
   ]
  },
  {
   "cell_type": "code",
   "execution_count": 10,
   "metadata": {
    "ExecuteTime": {
     "end_time": "2018-03-26T10:33:46.644623Z",
     "start_time": "2018-03-26T10:33:32.009Z"
    }
   },
   "outputs": [
    {
     "name": "stdout",
     "output_type": "stream",
     "text": [
      "Rating(789,12,5.913209374433712)\n",
      "Rating(789,199,5.855880700816102)\n",
      "Rating(789,526,5.825030838268482)\n",
      "Rating(789,182,5.75696475422482)\n",
      "Rating(789,96,5.6864516894478525)\n",
      "Rating(789,250,5.684725442684111)\n",
      "Rating(789,144,5.6774028331597926)\n",
      "Rating(789,183,5.621820401359451)\n",
      "Rating(789,56,5.614443663294212)\n",
      "Rating(789,219,5.610997103454043)\n"
     ]
    }
   ],
   "source": [
    "val userId = 789\n",
    "val K = 10\n",
    "val topKRecs = model.recommendProducts(userId, K)\n",
    "println(topKRecs.mkString(\"\\n\"))"
   ]
  },
  {
   "cell_type": "markdown",
   "metadata": {},
   "source": [
    "### 3.3 추천 목록 확인작업\n",
    "앞서 예측에 사용된 영화 제목 확인해봄"
   ]
  },
  {
   "cell_type": "code",
   "execution_count": 11,
   "metadata": {
    "ExecuteTime": {
     "end_time": "2018-03-26T10:33:49.262644Z",
     "start_time": "2018-03-26T10:33:48.394Z"
    }
   },
   "outputs": [
    {
     "data": {
      "text/plain": [
       "Frighteners, The (1996)"
      ]
     },
     "execution_count": 11,
     "metadata": {},
     "output_type": "execute_result"
    }
   ],
   "source": [
    "val movies = sc.textFile(\"/home/paulkim/workspace/Spark/Spark_ML/data/ml-100k/u.item\")\n",
    "val titles = movies.map(line => line.split(\"\\\\|\").take(2)).map(array => (array(0).toInt, array(1))).collectAsMap()\n",
    "titles(123)"
   ]
  },
  {
   "cell_type": "markdown",
   "metadata": {},
   "source": [
    "예측한 평점의 영화이름. 즉, itemId가 123인 영화는 **\"Frighteners, The (1996)\"**인 것을 확인할 수 있음"
   ]
  },
  {
   "cell_type": "markdown",
   "metadata": {},
   "source": [
    "### 3.4 user(userId=789)가 평점을 작성한 영화의 갯수를 확인"
   ]
  },
  {
   "cell_type": "code",
   "execution_count": 12,
   "metadata": {
    "ExecuteTime": {
     "end_time": "2018-03-26T10:33:49.762516Z",
     "start_time": "2018-03-26T10:33:48.790Z"
    }
   },
   "outputs": [
    {
     "name": "stdout",
     "output_type": "stream",
     "text": [
      "Number of recommended items(movies) to userid 789 : 33\n"
     ]
    }
   ],
   "source": [
    "val movieForUser = ratings.keyBy(_.user).lookup(789)\n",
    "println(\"Number of recommended items(movies) to userid 789 : \" + movieForUser.size)"
   ]
  },
  {
   "cell_type": "markdown",
   "metadata": {},
   "source": [
    "```scala\n",
    "val ratings = rawRatings.map{ case Array(user, movie, rating) => Rating(user.toInt, movie.toInt, rating.toDouble)}\n",
    "```\n",
    "userId가 789인 사용자가 평점을 기록한 items(영화)의 갯수는 **33개**인 것을 확인할 수 있음"
   ]
  },
  {
   "cell_type": "markdown",
   "metadata": {},
   "source": [
    "### 3.3 user(userId=789)가 작성한 영화제목과 평점  확인"
   ]
  },
  {
   "cell_type": "code",
   "execution_count": 13,
   "metadata": {
    "ExecuteTime": {
     "end_time": "2018-03-26T10:33:50.152835Z",
     "start_time": "2018-03-26T10:33:49.196Z"
    }
   },
   "outputs": [
    {
     "name": "stdout",
     "output_type": "stream",
     "text": [
      "(Godfather, The (1972),5.0)\n",
      "(Trainspotting (1996),5.0)\n",
      "(Dead Man Walking (1995),5.0)\n",
      "(Star Wars (1977),5.0)\n",
      "(Swingers (1996),5.0)\n",
      "(Leaving Las Vegas (1995),5.0)\n",
      "(Bound (1996),5.0)\n",
      "(Fargo (1996),5.0)\n",
      "(Last Supper, The (1995),5.0)\n",
      "(Private Parts (1997),4.0)\n"
     ]
    }
   ],
   "source": [
    "movieForUser.sortBy(-_.rating).take(10).map(rating => (titles(rating.product), rating.rating)).foreach(println)"
   ]
  },
  {
   "cell_type": "markdown",
   "metadata": {},
   "source": [
    "### 3.4 user(userId=789)에게 추천되는 최상위 items(영화)를 확인"
   ]
  },
  {
   "cell_type": "code",
   "execution_count": 14,
   "metadata": {
    "ExecuteTime": {
     "end_time": "2018-03-26T10:33:50.505957Z",
     "start_time": "2018-03-26T10:33:49.452Z"
    }
   },
   "outputs": [
    {
     "name": "stdout",
     "output_type": "stream",
     "text": [
      "(Usual Suspects, The (1995),5.913209374433712)\n",
      "(Bridge on the River Kwai, The (1957),5.855880700816102)\n",
      "(Ben-Hur (1959),5.825030838268482)\n",
      "(GoodFellas (1990),5.75696475422482)\n",
      "(Terminator 2: Judgment Day (1991),5.6864516894478525)\n",
      "(Fifth Element, The (1997),5.684725442684111)\n",
      "(Die Hard (1988),5.6774028331597926)\n",
      "(Alien (1979),5.621820401359451)\n",
      "(Pulp Fiction (1994),5.614443663294212)\n",
      "(Nightmare on Elm Street, A (1984),5.610997103454043)\n"
     ]
    }
   ],
   "source": [
    "topKRecs.map(rating => (titles(rating.product), rating.rating)).foreach(println)"
   ]
  },
  {
   "cell_type": "markdown",
   "metadata": {},
   "source": [
    "### 사용자 추천(Cosine Similarity)"
   ]
  },
  {
   "cell_type": "markdown",
   "metadata": {},
   "source": [
    "- model.userFeatures로 접근하면 됨\n",
    "- model.recommendProduct()로 접근"
   ]
  },
  {
   "cell_type": "markdown",
   "metadata": {},
   "source": [
    "## 4. 제품 추천(items(영화))\n",
    "제품 추천은 특정 제품에 대해 그것과 가장 유사한 제품들은 어떤 것이 있는가라는 질문에 대답하는 접근방법. \n",
    "\n",
    "- 유사성은 설계된 모델에 종속적임. \n",
    "- 대부분의 경우 유사도는 두 제픔의 벡터 표현을 비교하여 계산됨. \n",
    "\n",
    "### tip) 유사도 방법론 3가지\n",
    "- **피어슨-상관계수(Pearson correlation)**\n",
    "- **코사인 유사도(Cosine Similarity)**\n",
    "- **자커드 유사도(Jaccard Similarity)**"
   ]
  },
  {
   "cell_type": "markdown",
   "metadata": {},
   "source": [
    "MatrixFactorizationModel객체는 코사인 유사도를 계산할 수 있는 API를 제공하지 않음.\n",
    "새로운 함수로 구현 \n",
    "- 수식 참고 : https://en.wikipedia.org/wiki/Cosine_similarity\n",
    "- jblas.DoubleMatrix 이용"
   ]
  },
  {
   "cell_type": "code",
   "execution_count": 15,
   "metadata": {
    "ExecuteTime": {
     "end_time": "2018-03-26T10:33:50.671583Z",
     "start_time": "2018-03-26T10:33:50.147Z"
    }
   },
   "outputs": [],
   "source": [
    "import org.jblas.DoubleMatrix // /opt/java/jre/lib/ext/jblas-1.2.3.jar"
   ]
  },
  {
   "cell_type": "code",
   "execution_count": 16,
   "metadata": {
    "ExecuteTime": {
     "end_time": "2018-03-26T10:33:51.042728Z",
     "start_time": "2018-03-26T10:33:50.297Z"
    }
   },
   "outputs": [
    {
     "data": {
      "text/plain": [
       "[1.000000; 2.000000; 3.000000]"
      ]
     },
     "execution_count": 16,
     "metadata": {},
     "output_type": "execute_result"
    }
   ],
   "source": [
    "val aMatrix = new DoubleMatrix(Array(1.0, 2.0, 3.0))\n",
    "aMatrix"
   ]
  },
  {
   "cell_type": "markdown",
   "metadata": {},
   "source": [
    "aMatrix는 array[Double] 자료구조를 갖음. "
   ]
  },
  {
   "cell_type": "markdown",
   "metadata": {},
   "source": [
    "### 4.1 CosineSimilarity 함수 선언"
   ]
  },
  {
   "cell_type": "code",
   "execution_count": 17,
   "metadata": {
    "ExecuteTime": {
     "end_time": "2018-03-26T10:33:51.231551Z",
     "start_time": "2018-03-26T10:33:50.701Z"
    }
   },
   "outputs": [],
   "source": [
    "// 1 : 완전히 같음, 0 : 독립적(유사성X), -1 : 완전히 다름\n",
    "def cosineSimilarity(vec1: DoubleMatrix, vec2: DoubleMatrix): Double = {\n",
    "    vec1.dot(vec2) / (vec1.norm2() * vec2.norm2()) // norm2 : L2 regularization을 기억\n",
    "}"
   ]
  },
  {
   "cell_type": "markdown",
   "metadata": {},
   "source": [
    "제품 567을 위해 제품 특징 중 한 가지를 위 메서드에 적용. 모델에서 하나의 제품 특징을 lookup메서드를 통해서 수집. \n",
    "\n",
    "### 4.2 동일한 item의 유사성을 확인"
   ]
  },
  {
   "cell_type": "code",
   "execution_count": 18,
   "metadata": {
    "ExecuteTime": {
     "end_time": "2018-03-26T10:33:51.851520Z",
     "start_time": "2018-03-26T10:33:50.992Z"
    }
   },
   "outputs": [
    {
     "data": {
      "text/plain": [
       "1.0"
      ]
     },
     "execution_count": 18,
     "metadata": {},
     "output_type": "execute_result"
    }
   ],
   "source": [
    "val itemId = 567\n",
    "// val itemId2 = 789\n",
    "\n",
    "// 유의점 : 벡터의 크기는 중요하지 않음. 방향성만이 의미를 갖음\n",
    "val itemFactor = model.productFeatures.lookup(itemId).head\n",
    "// println(itemFactor.size) // itemFactor는 메모리의 주소를 참조하고 있음\n",
    "val itemVector = new DoubleMatrix(itemFactor) // itemId를 사용하여 접근함\n",
    "cosineSimilarity(itemVector, itemVector)"
   ]
  },
  {
   "cell_type": "markdown",
   "metadata": {
    "ExecuteTime": {
     "end_time": "2018-03-25T12:00:31.600828Z",
     "start_time": "2018-03-25T12:00:31.473Z"
    }
   },
   "source": [
    "### 4.3 유사성 행렬을 items에 적용\n",
    "- ItemId가 567인 영화를 기준으로 유사도를 계산"
   ]
  },
  {
   "cell_type": "code",
   "execution_count": 19,
   "metadata": {
    "ExecuteTime": {
     "end_time": "2018-03-26T10:33:52.276426Z",
     "start_time": "2018-03-26T10:33:51.253Z"
    }
   },
   "outputs": [],
   "source": [
    "val sims = model.productFeatures.map{ case (id, factor) => \n",
    "    val factorVector = new DoubleMatrix(factor)\n",
    "    val sim = cosineSimilarity(factorVector, itemVector)\n",
    "    (id, sim)\n",
    "}"
   ]
  },
  {
   "cell_type": "code",
   "execution_count": 20,
   "metadata": {
    "ExecuteTime": {
     "end_time": "2018-03-26T10:33:52.822932Z",
     "start_time": "2018-03-26T10:33:51.396Z"
    }
   },
   "outputs": [
    {
     "data": {
      "text/plain": [
       "Array((8,0.4278079357557495), (16,0.5446019074147214))"
      ]
     },
     "execution_count": 20,
     "metadata": {},
     "output_type": "execute_result"
    }
   ],
   "source": [
    "sims.take(2)"
   ]
  },
  {
   "cell_type": "markdown",
   "metadata": {},
   "source": [
    "### 4.4 유사성이 높은 items(영화)를 기준으로 sorting\n",
    "- top(K) 메서드는 분산환경에서 효과적으로 사용할 수 있는 메서드. collect() 대신 활용\n",
    "- Ordering.by[(Int, Double), Double]{ case }\n",
    "- scala doc : https://www.scala-lang.org/api/2.12.3/scala/math/Ordering.html\n",
    "\n",
    "```scala\n",
    "import scala.util.Sorting\n",
    "val pairs = Array((\"a\", 5, 2), (\"c\", 3, 1), (\"b\", 1, 3))\n",
    "\n",
    "// sort by 2nd element\n",
    "Sorting.quickSort(pairs)(Ordering.by[(String, Int, Int), Int](_._2))\n",
    "pairs // Array((b,1,3), (c,3,1), (a,5,2))\n",
    "\n",
    "// sort by the 3rd element, then 1st\n",
    "Sorting.quickSort(pairs)(Ordering[(Int, String)].on(x => (x._3, x._1)))\n",
    "pairs // Array((c,3,1), (a,5,2), (b,1,3))\n",
    "```"
   ]
  },
  {
   "cell_type": "code",
   "execution_count": 21,
   "metadata": {
    "ExecuteTime": {
     "end_time": "2018-03-26T10:33:53.690020Z",
     "start_time": "2018-03-26T10:33:51.688Z"
    }
   },
   "outputs": [
    {
     "data": {
      "text/plain": [
       "Array((567,1.0), (685,0.7458508072982897))"
      ]
     },
     "execution_count": 21,
     "metadata": {},
     "output_type": "execute_result"
    }
   ],
   "source": [
    "val sortedSims = sims.top(K)(Ordering.by[(Int, Double), Double] { case (id, similarity) => similarity})\n",
    "sortedSims.take(2)"
   ]
  },
  {
   "cell_type": "code",
   "execution_count": 22,
   "metadata": {
    "ExecuteTime": {
     "end_time": "2018-03-26T10:33:53.913312Z",
     "start_time": "2018-03-26T10:33:51.835Z"
    }
   },
   "outputs": [
    {
     "name": "stdout",
     "output_type": "stream",
     "text": [
      "(567,1.0)\n",
      "(685,0.7458508072982897)\n",
      "(1376,0.7207411742876755)\n",
      "(563,0.7196819637839887)\n",
      "(24,0.714372755967921)\n",
      "(853,0.7035580135395358)\n",
      "(719,0.7020805509981137)\n",
      "(1083,0.7001007967139781)\n",
      "(1178,0.6896174170300631)\n",
      "(413,0.687434407639588)\n"
     ]
    }
   ],
   "source": [
    "println(sortedSims.mkString(\"\\n\"))"
   ]
  },
  {
   "cell_type": "markdown",
   "metadata": {},
   "source": [
    "결과를 확인하면 567번이 처음에 나타나는 것을 확인할 수 있음. 제거!"
   ]
  },
  {
   "cell_type": "markdown",
   "metadata": {},
   "source": [
    "### 4.5 유사 제품 검사 : 영화"
   ]
  },
  {
   "cell_type": "code",
   "execution_count": 23,
   "metadata": {
    "ExecuteTime": {
     "end_time": "2018-03-26T10:33:54.084723Z",
     "start_time": "2018-03-26T10:33:52.242Z"
    }
   },
   "outputs": [
    {
     "name": "stdout",
     "output_type": "stream",
     "text": [
      "Wes Craven's New Nightmare (1994)\n"
     ]
    }
   ],
   "source": [
    "println(titles(itemId))"
   ]
  },
  {
   "cell_type": "code",
   "execution_count": 24,
   "metadata": {
    "ExecuteTime": {
     "end_time": "2018-03-26T10:33:54.823725Z",
     "start_time": "2018-03-26T10:33:52.392Z"
    }
   },
   "outputs": [
    {
     "data": {
      "text/plain": [
       "(Wes Craven's New Nightmare (1994),1.0)\n",
       "(Executive Decision (1996),0.7458508072982897)\n",
       "(Meet Wally Sparks (1997),0.7207411742876755)\n",
       "(Stephen King's The Langoliers (1995),0.7196819637839887)\n",
       "(Rumble in the Bronx (1995),0.714372755967921)\n",
       "(Braindead (1992),0.7035580135395358)\n",
       "(Canadian Bacon (1994),0.7020805509981137)\n",
       "(Albino Alligator (1996),0.7001007967139781)\n",
       "(Major Payne (1994),0.6896174170300631)\n",
       "(Tales from the Crypt Presents: Bordello of Blood (1996),0.687434407639588)\n",
       "(Nightmare on Elm Street, A (1984),0.686452783648566)"
      ]
     },
     "execution_count": 24,
     "metadata": {},
     "output_type": "execute_result"
    }
   ],
   "source": [
    "val sortedSims2 = sims.top(K + 1)(Ordering.by[(Int, Double), Double] { case (id, sim) => sim})\n",
    "sortedSims2.slice(0, 11).map{ case (id, sim) => (titles(id), sim)}.mkString(\"\\n\")"
   ]
  },
  {
   "cell_type": "markdown",
   "metadata": {},
   "source": [
    "## 5. 추천 모델 성능 평가\n",
    "## 5.1 MSE\n",
    "user-item 평점 행렬의 재구성 오차를 직접적으로 측정하는 방법. 또한 ALS를 포함해서 많은 행렬-인수분해 기술에 특화된 특정 모델에서 간소화된 객관적인 방법임. 이런 의미로 볼 때 MSE 명시적인 평가 설정 방법론으로 볼 수 있음\n",
    "- 특정 사용자-제품 상에 대한 예측 평점과 실제 평점 사이 제곱 값의 차이"
   ]
  },
  {
   "cell_type": "markdown",
   "metadata": {},
   "source": [
    "### 5.1.1 MSE 적용 방법 예시"
   ]
  },
  {
   "cell_type": "code",
   "execution_count": 25,
   "metadata": {
    "ExecuteTime": {
     "end_time": "2018-03-26T10:33:55.046465Z",
     "start_time": "2018-03-26T10:33:52.837Z"
    }
   },
   "outputs": [
    {
     "data": {
      "text/plain": [
       "WrappedArray(Rating(789,1012,4.0))"
      ]
     },
     "execution_count": 25,
     "metadata": {},
     "output_type": "execute_result"
    }
   ],
   "source": [
    "// movieForUser는 userId = 789가 items(영화)의 평점을 작성한 결과를 갖고 있는 행렬\n",
    "movieForUser.take(1)"
   ]
  },
  {
   "cell_type": "code",
   "execution_count": 26,
   "metadata": {
    "ExecuteTime": {
     "end_time": "2018-03-26T10:33:55.322733Z",
     "start_time": "2018-03-26T10:33:52.976Z"
    }
   },
   "outputs": [
    {
     "data": {
      "text/plain": [
       "Rating(789,1012,4.0)"
      ]
     },
     "execution_count": 26,
     "metadata": {},
     "output_type": "execute_result"
    }
   ],
   "source": [
    "val actualRating = movieForUser.take(1)(0)\n",
    "actualRating"
   ]
  },
  {
   "cell_type": "markdown",
   "metadata": {},
   "source": [
    "사용자-제품 조합에 평점이 4.0인 것을 확인할 수 있음"
   ]
  },
  {
   "cell_type": "code",
   "execution_count": 27,
   "metadata": {
    "ExecuteTime": {
     "end_time": "2018-03-26T10:33:55.770934Z",
     "start_time": "2018-03-26T10:33:53.268Z"
    }
   },
   "outputs": [
    {
     "data": {
      "text/plain": [
       "3.9337607859393704"
      ]
     },
     "execution_count": 27,
     "metadata": {},
     "output_type": "execute_result"
    }
   ],
   "source": [
    "val predictedRating = model.predict(789, actualRating.product)\n",
    "predictedRating"
   ]
  },
  {
   "cell_type": "code",
   "execution_count": 28,
   "metadata": {
    "ExecuteTime": {
     "end_time": "2018-03-26T10:33:55.978434Z",
     "start_time": "2018-03-26T10:33:53.416Z"
    }
   },
   "outputs": [
    {
     "data": {
      "text/plain": [
       "0.00438763347936991"
      ]
     },
     "execution_count": 28,
     "metadata": {},
     "output_type": "execute_result"
    }
   ],
   "source": [
    "val squaredError = math.pow(predictedRating - actualRating.rating, 2.0)\n",
    "squaredError"
   ]
  },
  {
   "cell_type": "markdown",
   "metadata": {},
   "source": [
    "### 5.1.2 실제 모형에 MSE 적용\n",
    "1. ratings RDD에서 실제 label값을 제거하고 모형을 통해서 평점을 예측하는 모형을 설계\n",
    "2. ratings RDD와 prediction RDD를 join하여 새로운 RDD를 생성(tip : 튜플형태가 고유한 키)\n",
    "3. MSE적용"
   ]
  },
  {
   "cell_type": "code",
   "execution_count": 29,
   "metadata": {
    "ExecuteTime": {
     "end_time": "2018-03-26T10:33:56.374754Z",
     "start_time": "2018-03-26T10:33:53.709Z"
    }
   },
   "outputs": [
    {
     "data": {
      "text/plain": [
       "Array((196,242), (186,302))"
      ]
     },
     "execution_count": 29,
     "metadata": {},
     "output_type": "execute_result"
    }
   ],
   "source": [
    "val userProducts = ratings.map{ case Rating(user, product, rating) => (user, product)}\n",
    "userProducts.take(2) // (user, product)의 튜플구조를 갖음"
   ]
  },
  {
   "cell_type": "code",
   "execution_count": 30,
   "metadata": {
    "ExecuteTime": {
     "end_time": "2018-03-26T10:33:57.789920Z",
     "start_time": "2018-03-26T10:33:53.898Z"
    }
   },
   "outputs": [
    {
     "data": {
      "text/plain": [
       "Array(((504,384),1.8072127015030335), ((648,384),3.799487080492735))"
      ]
     },
     "execution_count": 30,
     "metadata": {},
     "output_type": "execute_result"
    }
   ],
   "source": [
    "val predictions = model.predict(userProducts).map{\n",
    "    case Rating(user, product, rating) => ((user, product), rating)\n",
    "}\n",
    "predictions.take(2)"
   ]
  },
  {
   "cell_type": "markdown",
   "metadata": {},
   "source": [
    "실제 평점들을 추출해서 ratings RDD에 매핑. 동일한 형태의 키로 구성된 두 개의 RDD를 결합해서 각 사용자-제품 조합에 대한 실제 평점과 예측 평점으로 구성된 새로운 RDD를 생성\n",
    "\n",
    "tip으로 기억해야할 점은 조인을 위해 식별을 위한 키로 튜플 형태를 사용함"
   ]
  },
  {
   "cell_type": "code",
   "execution_count": 31,
   "metadata": {
    "ExecuteTime": {
     "end_time": "2018-03-26T10:33:59.030288Z",
     "start_time": "2018-03-26T10:33:54.186Z"
    }
   },
   "outputs": [
    {
     "data": {
      "text/plain": [
       "Array(((92,386),(3.0,2.8324790803581616)), ((533,919),(2.0,1.9672505083453138)))"
      ]
     },
     "execution_count": 31,
     "metadata": {},
     "output_type": "execute_result"
    }
   ],
   "source": [
    "val ratingsAndPredictions = ratings.map{\n",
    "    case Rating(user, product, rating) => ((user, product), rating)\n",
    "}.join(predictions)\n",
    "ratingsAndPredictions.take(2)"
   ]
  },
  {
   "cell_type": "code",
   "execution_count": 32,
   "metadata": {
    "ExecuteTime": {
     "end_time": "2018-03-26T10:34:00.121074Z",
     "start_time": "2018-03-26T10:33:54.334Z"
    }
   },
   "outputs": [
    {
     "name": "stdout",
     "output_type": "stream",
     "text": [
      "Mean Squared Error = 0.08480751044854719\n"
     ]
    }
   ],
   "source": [
    "val MSE = ratingsAndPredictions.map{\n",
    "    case ((user, product), (actual, predicted)) => math.pow((actual - predicted), 2)\n",
    "}.reduce(_ + _) / ratingsAndPredictions.count\n",
    "println(\"Mean Squared Error = \" + MSE)"
   ]
  },
  {
   "cell_type": "markdown",
   "metadata": {},
   "source": [
    "### 5.1.3 RMSE(Root Mean Squared Error) 확인"
   ]
  },
  {
   "cell_type": "code",
   "execution_count": 33,
   "metadata": {
    "ExecuteTime": {
     "end_time": "2018-03-26T10:34:00.365378Z",
     "start_time": "2018-03-26T10:33:54.626Z"
    }
   },
   "outputs": [
    {
     "name": "stdout",
     "output_type": "stream",
     "text": [
      "Root Mean Squared Error = 0.2912172907788052\n"
     ]
    }
   ],
   "source": [
    "val RMSE = math.sqrt(MSE)\n",
    "println(\"Root Mean Squared Error = \" + RMSE)"
   ]
  },
  {
   "cell_type": "markdown",
   "metadata": {
    "ExecuteTime": {
     "end_time": "2018-03-26T09:12:30.532958Z",
     "start_time": "2018-03-26T09:12:29.422Z"
    }
   },
   "source": [
    "### 5.1.4 MSE,RMSE(mllib.evaluation)"
   ]
  },
  {
   "cell_type": "code",
   "execution_count": 34,
   "metadata": {
    "ExecuteTime": {
     "end_time": "2018-03-26T10:34:01.284131Z",
     "start_time": "2018-03-26T10:33:54.919Z"
    }
   },
   "outputs": [
    {
     "name": "stdout",
     "output_type": "stream",
     "text": [
      "Mean Squared Error = 0.08480751044854719\n",
      "Root Mean Squared Error = 0.2912172907788052\n"
     ]
    }
   ],
   "source": [
    "import org.apache.spark.mllib.evaluation.RegressionMetrics\n",
    "val predictedAndTrue = ratingsAndPredictions.map{ case ((user, product), (actual, predicted)) => (actual, predicted)}\n",
    "val regressionMetrics = new RegressionMetrics(predictedAndTrue)\n",
    "println(\"Mean Squared Error = \" + regressionMetrics.meanSquaredError)\n",
    "println(\"Root Mean Squared Error = \" + regressionMetrics.rootMeanSquaredError)"
   ]
  },
  {
   "cell_type": "markdown",
   "metadata": {},
   "source": [
    "## 5.2 MAPK(Mean Average Precision at K)\n",
    "\n",
    "참고 : https://en.wikipedia.org/wiki/Evaluation_measures_(information_retrieval)#Mean_average_precision\n",
    "\n",
    "APK는 쿼리에 대한 응답으로 나타나는 top-K 도큐먼트의 집합을 **평균 연관성 점수(average relevence score)**로 측정하는 방법. 각 쿼리 인스턴스를 사용해서 top-K 결과 집합을 실제 연관성이 있는 도큐먼트의 집합과 비교(쿼리에 대한 연관 도큐먼트의 실측 자료를 의미함)\n",
    "\n",
    "APK 지표를 이용할 때 결과 도큐먼트는 둘 다 연관성이 있고, 연관된 두 문서가 결과 집합에서 좀 더 높은 점수가 나오면 APK 점수가 더 높게 나올 수 있기 때문에 **결과 잡합의 순서는 매우 중요**. \n",
    "\n",
    "이 경우 연관성이 있는 도큐먼트(실제자료)는 사용자가 요청해서 응답받는 제품의 집합을 말함. 따라서 APK는 모델을 통해 사용자가 연관성이 있는 제품을 찾고 선택할 수 있는 모든 제품을 얼마나 잘 예측하는지 측정함"
   ]
  },
  {
   "cell_type": "markdown",
   "metadata": {},
   "source": [
    "### 5.2.1 APK(Average Precision K) 계산 메서드"
   ]
  },
  {
   "cell_type": "code",
   "execution_count": 35,
   "metadata": {
    "ExecuteTime": {
     "end_time": "2018-03-26T10:34:01.561341Z",
     "start_time": "2018-03-26T10:33:55.375Z"
    }
   },
   "outputs": [],
   "source": [
    "def avgPrecisionK(actual: Seq[Int], predicted: Seq[Int], k: Int): Double = {\n",
    "    val predK = predicted.take(k)\n",
    "    var score = 0.0\n",
    "    var numHits = 0.0\n",
    "    for((p, i) <- predK.zipWithIndex){\n",
    "        if(actual.contains(p)){\n",
    "            numHits += 1.0\n",
    "            score += numHits / (i.toDouble + 1.0)\n",
    "        }\n",
    "    }\n",
    "    if (actual.isEmpty){\n",
    "        1.0\n",
    "    } else {\n",
    "        score / scala.math.min(actual.size, k).toDouble\n",
    "    }\n",
    "}"
   ]
  },
  {
   "cell_type": "markdown",
   "metadata": {},
   "source": [
    "avgPrecisionK 메서드는 사용자와 predicted id의 다른 목록이 서로 관련이 있는 actual 제품 ID의 목록을 입력으로 받기 때문에 평과 결과는 사용자와 연관이 있을 것임"
   ]
  },
  {
   "cell_type": "markdown",
   "metadata": {},
   "source": [
    "### 5.2.1 MAPK 적용 예시"
   ]
  },
  {
   "cell_type": "code",
   "execution_count": 36,
   "metadata": {
    "ExecuteTime": {
     "end_time": "2018-03-26T10:34:01.930586Z",
     "start_time": "2018-03-26T10:33:56.021Z"
    }
   },
   "outputs": [
    {
     "data": {
      "text/plain": [
       "ArrayBuffer(1012, 127)"
      ]
     },
     "execution_count": 36,
     "metadata": {},
     "output_type": "execute_result"
    }
   ],
   "source": [
    "val actualMovies = movieForUser.map(_.product)\n",
    "actualMovies.take(2) // Seq[Int] = ArrayBuffer(1012, 127)"
   ]
  },
  {
   "cell_type": "code",
   "execution_count": 37,
   "metadata": {
    "ExecuteTime": {
     "end_time": "2018-03-26T10:34:02.243925Z",
     "start_time": "2018-03-26T10:33:56.128Z"
    }
   },
   "outputs": [
    {
     "data": {
      "text/plain": [
       "Array(12, 199, 526, 182, 96, 250, 144, 183, 56, 219)"
      ]
     },
     "execution_count": 37,
     "metadata": {},
     "output_type": "execute_result"
    }
   ],
   "source": [
    "// val topKRecs = model.recommendProducts(userId, K)\n",
    "val predictedMovie = topKRecs.map(_.product)\n",
    "predictedMovie"
   ]
  },
  {
   "cell_type": "code",
   "execution_count": 38,
   "metadata": {
    "ExecuteTime": {
     "end_time": "2018-03-26T10:34:02.565866Z",
     "start_time": "2018-03-26T10:33:56.312Z"
    }
   },
   "outputs": [
    {
     "data": {
      "text/plain": [
       "0.0"
      ]
     },
     "execution_count": 38,
     "metadata": {},
     "output_type": "execute_result"
    }
   ],
   "source": [
    "val apk10 = avgPrecisionK(actualMovies, predictedMovie, 10)\n",
    "apk10"
   ]
  },
  {
   "cell_type": "markdown",
   "metadata": {},
   "source": [
    "이 경우 APK 점수가 0점이기 때문에 모델이 특정 사용자(user)에게 연관성이 있는 영화를 예측하는 작업을 잘 수행하지 못한 것을 알 수 있음\n",
    "\n",
    "모든 사용자를 위해 APK를 연산하고 전체 APK의 평균을 계산하기 위해 모든 사용자에게 데이터 집합 중에서 추천 리스트를 생성해서 제공해야 할 것임. APK 연산은 대규모의 데이터에서 상당히 집중적일 수 있지만, 스파크 기능을 이용해서 APK 연산을 분배할 수 있음. 그렇지만 각 작업자는 전체 제품 특징 행렬을 사용해서 관련성이 있는 사용자 벡터와 모든 제품 벡터의 내적 계산을 해야하는 제약 사항이 한가지 존재함.  제품의 갯수가 방대하고 제품 행렬은 단일 머신의 메모리만 사용해야 하는 상황에서는 문제가 발생할 수 있음"
   ]
  },
  {
   "cell_type": "markdown",
   "metadata": {},
   "source": [
    "### 5.2.2 실제 모형에 MAPK 적용"
   ]
  },
  {
   "cell_type": "code",
   "execution_count": 39,
   "metadata": {
    "ExecuteTime": {
     "end_time": "2018-03-26T10:34:03.597593Z",
     "start_time": "2018-03-26T10:33:57.049Z"
    }
   },
   "outputs": [
    {
     "name": "stdout",
     "output_type": "stream",
     "text": [
      "(1682,50)\n"
     ]
    }
   ],
   "source": [
    "// 모든 제품\n",
    "val itemFactors = model.productFeatures.map{ case (userId, factor) => factor}.collect()\n",
    "// println(itemFactors.size)\n",
    "val itemMatrix = new DoubleMatrix(itemFactors)\n",
    "println(itemMatrix.rows, itemMatrix.columns)"
   ]
  },
  {
   "cell_type": "markdown",
   "metadata": {},
   "source": [
    "50개의 특징 공간에 1682개의 items로 이뤄진 행렬인 것을 확인할 수 있음"
   ]
  },
  {
   "cell_type": "code",
   "execution_count": 40,
   "metadata": {
    "ExecuteTime": {
     "end_time": "2018-03-26T10:34:03.739968Z",
     "start_time": "2018-03-26T10:33:57.785Z"
    }
   },
   "outputs": [],
   "source": [
    "val imBroadcast = sc.broadcast(itemMatrix)"
   ]
  },
  {
   "cell_type": "markdown",
   "metadata": {},
   "source": [
    "행렬 곱의 결과는 각 영화에 대한 예측 평점을 포함하는 벡터(길이 1682의 영화 갯수)임. 이제 예측 평점을 기준으로 모든 예측을 정렬할 것임"
   ]
  },
  {
   "cell_type": "code",
   "execution_count": 41,
   "metadata": {
    "ExecuteTime": {
     "end_time": "2018-03-26T10:34:04.108399Z",
     "start_time": "2018-03-26T10:33:58.262Z"
    }
   },
   "outputs": [],
   "source": [
    "val allRecs = model.userFeatures.map{ case (userId, array) => \n",
    "    val userVector = new DoubleMatrix(array)\n",
    "    val scores = imBroadcast.value.mmul(userVector)\n",
    "    val sortedWithId = scores.data.zipWithIndex.sortBy(-_._1)\n",
    "    val recommendedIds = sortedWithId.map(_._2 + 1).toSeq\n",
    "    (userId, recommendedIds)\n",
    "} // Array[(Int, Seq[Int])] = Array((8,WrappedArray(1405, 8, 1345, 25, 753, ..)))"
   ]
  },
  {
   "cell_type": "markdown",
   "metadata": {
    "ExecuteTime": {
     "end_time": "2018-03-26T08:35:45.358880Z",
     "start_time": "2018-03-26T08:35:44.870Z"
    }
   },
   "source": [
    "각 사용자 ID마다 영화 ID목록을 포함하는 RDD가 생성됨. 영화 ID는 평점 순서대로 정렬되어 있음"
   ]
  },
  {
   "cell_type": "markdown",
   "metadata": {
    "ExecuteTime": {
     "end_time": "2018-03-26T08:41:38.857843Z",
     "start_time": "2018-03-26T08:41:38.521Z"
    }
   },
   "source": [
    "APK 메서드에 actual 매개변수로 전달하기 위해 각 사용자에게 할당된 영화 ID의 목록도 필요함. 다행히 이미 ratings RDD가 준비되어 있으므로 여기에서 사용자와 영화 ID만 추출할 수 있음"
   ]
  },
  {
   "cell_type": "code",
   "execution_count": 42,
   "metadata": {
    "ExecuteTime": {
     "end_time": "2018-03-26T10:34:04.885908Z",
     "start_time": "2018-03-26T10:33:59.249Z"
    }
   },
   "outputs": [
    {
     "data": {
      "text/plain": [
       "Array((778,CompactBuffer((778,94), (778,78), (778,7), (778,1273), (778,265), (778,239), (778,193), (778,1035), (778,616), (778,230), (778,582), (778,262), (778,238), (778,780), (778,195), (778,209), (778,121), (778,738), (778,204), (778,496), (778,174), (778,197), (778,161), (778,234), (778,98), (778,180), (778,56), (778,11), (778,268), (778,568), (778,367), (778,451), (778,42), (778,186), (778,150), (778,157), (778,200), (778,281), (778,54), (778,28), (778,132), (778,8), (778,144), (778,79), (778,249), (778,82), (778,755), (778,69), (778,117), (778,154), (778,143), (778,712), (778,550), (778,35), (778,246), (778,405), (778,216), (778,226), (778,219), (778,423), (778,168), (778,196), (778,441), (778,623), (778,629))))"
      ]
     },
     "execution_count": 42,
     "metadata": {},
     "output_type": "execute_result"
    }
   ],
   "source": [
    "val userMovies = ratings.map{ case Rating(user, product, rating) => (user, product)}.groupBy(_._1)\n",
    "userMovies.take(1)"
   ]
  },
  {
   "cell_type": "code",
   "execution_count": 43,
   "metadata": {
    "ExecuteTime": {
     "end_time": "2018-03-26T10:34:06.931045Z",
     "start_time": "2018-03-26T10:33:59.765Z"
    }
   },
   "outputs": [
    {
     "name": "stdout",
     "output_type": "stream",
     "text": [
      "Mean Average Precision at K = 0.03063820296588057\n"
     ]
    }
   ],
   "source": [
    "val K = 10\n",
    "val MAPK = allRecs.join(userMovies).map{case (userId, (predicted, actualWithIds)) => \n",
    "    val actual = actualWithIds.map(_._2).toSeq\n",
    "    avgPrecisionK(actual, predicted, K)\n",
    "}.reduce(_ + _) / allRecs.count\n",
    "println(\"Mean Average Precision at K = \" + MAPK)"
   ]
  },
  {
   "cell_type": "markdown",
   "metadata": {},
   "source": [
    "결과를 확인하면 낮은 APK의 평균값을 출력함. 추천 태스크에 대한 전형적인 값은 낮고, 특히 제품 집합이 대규모일 때 더욱 낮음"
   ]
  },
  {
   "cell_type": "markdown",
   "metadata": {},
   "source": [
    "### 5.2.3 MAP MAPK (mllib.evaluation)\n",
    "mlllib.evaluation.RankingMetrics\n",
    "\n",
    "RankingMetrics클래스에 있는 K평균 정확도를 구현한 메서드는 앞서 구현한 것과 약간의 차이가 존재함. 그렇지만 K값을 매우 높게 선택(items의 모든 갯수)하면 대략적인 평균 정확도(MAP)의 평균 계산 값은 같음\n",
    "\n",
    "### MAP"
   ]
  },
  {
   "cell_type": "code",
   "execution_count": 44,
   "metadata": {
    "ExecuteTime": {
     "end_time": "2018-03-26T10:34:08.262896Z",
     "start_time": "2018-03-26T10:34:01.707Z"
    }
   },
   "outputs": [
    {
     "name": "stdout",
     "output_type": "stream",
     "text": [
      "Mean Average Precision = 0.07249666405791401\n"
     ]
    }
   ],
   "source": [
    "import org.apache.spark.mllib.evaluation.RankingMetrics\n",
    "\n",
    "\n",
    "val predictedAndTrueForRanking = allRecs.join(userMovies).map{ case (userId, (predicted, actualWithIds)) => \n",
    "    val actual = actualWithIds.map(_._2)\n",
    "    (predicted.toArray, actual.toArray)\n",
    "}\n",
    "val rankingMetrics = new RankingMetrics(predictedAndTrueForRanking)\n",
    "println(\"Mean Average Precision = \" + rankingMetrics.meanAveragePrecision)"
   ]
  },
  {
   "cell_type": "markdown",
   "metadata": {},
   "source": [
    "### MAPK"
   ]
  },
  {
   "cell_type": "code",
   "execution_count": 45,
   "metadata": {
    "ExecuteTime": {
     "end_time": "2018-03-26T10:34:18.103368Z",
     "start_time": "2018-03-26T10:34:14.429Z"
    }
   },
   "outputs": [
    {
     "name": "stdout",
     "output_type": "stream",
     "text": [
      "Mean Average Precision = 0.07249666405791405\n"
     ]
    }
   ],
   "source": [
    "val MAPK2000 = allRecs.join(userMovies).map{ case (userId, (predicted, actualWithIds)) =>\n",
    "    val actual = actualWithIds.map(_._2).toSeq\n",
    "    avgPrecisionK(actual, predicted, 2000)\n",
    "}.reduce(_ + _) / allRecs.count\n",
    "println(\"Mean Average Precision = \" + MAPK2000)"
   ]
  },
  {
   "cell_type": "markdown",
   "metadata": {
    "ExecuteTime": {
     "end_time": "2018-03-26T10:23:51.700671Z",
     "start_time": "2018-03-26T10:23:49.434Z"
    }
   },
   "source": [
    "### pakage vs UDF"
   ]
  },
  {
   "cell_type": "code",
   "execution_count": 46,
   "metadata": {
    "ExecuteTime": {
     "end_time": "2018-03-26T10:34:23.214943Z",
     "start_time": "2018-03-26T10:34:19.150Z"
    }
   },
   "outputs": [
    {
     "name": "stdout",
     "output_type": "stream",
     "text": [
      "Mean Average Precision at K = 0.07249666405791405\n"
     ]
    }
   ],
   "source": [
    "val K = 2000\n",
    "val MAPK = allRecs.join(userMovies).map{case (userId, (predicted, actualWithIds)) => \n",
    "    val actual = actualWithIds.map(_._2).toSeq\n",
    "    avgPrecisionK(actual, predicted, K)\n",
    "}.reduce(_ + _) / allRecs.count\n",
    "println(\"Mean Average Precision at K = \" + MAPK)"
   ]
  },
  {
   "cell_type": "code",
   "execution_count": null,
   "metadata": {},
   "outputs": [],
   "source": []
  }
 ],
 "metadata": {
  "kernelspec": {
   "display_name": "Spark - Scala",
   "language": "scala",
   "name": "spark_scala"
  },
  "language_info": {
   "file_extension": ".scala",
   "name": "scala",
   "version": "2.11.8"
  },
  "latex_envs": {
   "LaTeX_envs_menu_present": true,
   "autoclose": false,
   "autocomplete": true,
   "bibliofile": "biblio.bib",
   "cite_by": "apalike",
   "current_citInitial": 1,
   "eqLabelWithNumbers": true,
   "eqNumInitial": 1,
   "hotkeys": {
    "equation": "Ctrl-E",
    "itemize": "Ctrl-I"
   },
   "labels_anchors": false,
   "latex_user_defs": false,
   "report_style_numbering": false,
   "user_envs_cfg": false
  },
  "varInspector": {
   "cols": {
    "lenName": 16,
    "lenType": 16,
    "lenVar": 40
   },
   "kernels_config": {
    "python": {
     "delete_cmd_postfix": "",
     "delete_cmd_prefix": "del ",
     "library": "var_list.py",
     "varRefreshCmd": "print(var_dic_list())"
    },
    "r": {
     "delete_cmd_postfix": ") ",
     "delete_cmd_prefix": "rm(",
     "library": "var_list.r",
     "varRefreshCmd": "cat(var_dic_list()) "
    }
   },
   "types_to_exclude": [
    "module",
    "function",
    "builtin_function_or_method",
    "instance",
    "_Feature"
   ],
   "window_display": false
  }
 },
 "nbformat": 4,
 "nbformat_minor": 2
}
